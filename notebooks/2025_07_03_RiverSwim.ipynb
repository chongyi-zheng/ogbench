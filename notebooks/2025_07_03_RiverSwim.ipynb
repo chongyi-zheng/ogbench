{
 "cells": [
  {
   "cell_type": "code",
   "execution_count": 2,
   "id": "initial_id",
   "metadata": {
    "collapsed": true
   },
   "outputs": [],
   "source": [
    "import copy\n",
    "import random\n",
    "from collections import defaultdict\n",
    "\n",
    "import numpy as np\n",
    "import tqdm\n",
    "from IPython import display\n",
    "import matplotlib.pyplot as plt\n",
    "from scipy.ndimage import gaussian_filter1d\n",
    "\n",
    "import jax\n",
    "import jax.numpy as jnp\n",
    "import flax.linen as nn\n",
    "import optax"
   ]
  },
  {
   "cell_type": "code",
   "execution_count": null,
   "id": "2467df1b",
   "metadata": {},
   "outputs": [
    {
     "ename": "",
     "evalue": "",
     "output_type": "error",
     "traceback": [
      "\u001b[1;31mThe Kernel crashed while executing code in the current cell or a previous cell. \n",
      "\u001b[1;31mPlease review the code in the cell(s) to identify a possible cause of the failure. \n",
      "\u001b[1;31mClick <a href='https://aka.ms/vscodeJupyterKernelCrash'>here</a> for more info. \n",
      "\u001b[1;31mView Jupyter <a href='command:jupyter.viewOutput'>log</a> for further details."
     ]
    }
   ],
   "source": [
    "class RiverSwim:\n",
    "    def __init__(self, current='WEAK', seed=1234):\n",
    "        self.num_states = 6\n",
    "        self.num_actions = 2  # O <=> LEFT, 1 <=> RIGHT\n",
    "\n",
    "        # Larger current makes it harder to swim up the river\n",
    "        self.currents = ['WEAK', 'MEDIUM', 'STRONG']\n",
    "        assert current in self.currents\n",
    "        self.current = self.currents.index(current) + 1\n",
    "        assert self.current in [1, 2, 3]\n",
    "\n",
    "        # Configure reward function\n",
    "        R = np.zeros((self.num_states, self.num_actions))\n",
    "        R[0, 0] = 0.005\n",
    "        R[5, 1] = 1.\n",
    "\n",
    "        # Configure transition function\n",
    "        T = np.zeros((self.num_states, self.num_actions, self.num_states))\n",
    "\n",
    "        # Encode initial and rewarding state transitions\n",
    "        left, right = 0, 1\n",
    "        T[0, left, 0] = 1.\n",
    "        T[0, right, 0] = 0.4\n",
    "        T[0, right, 1] = 0.6\n",
    "\n",
    "        T[5, left, 4] = 1.\n",
    "        T[5, right, 5] = 0.6\n",
    "        T[5, right, 4] = 0.4\n",
    "\n",
    "        # Encode intermediate state transitions\n",
    "        for s in range(1, self.num_states - 1):\n",
    "            # Going left always succeeds\n",
    "            T[s, left, s - 1] = 1.\n",
    "\n",
    "            # Going right sometimes succeeds\n",
    "            T[s, right, s] = 0.6\n",
    "            T[s, right, s - 1] = 0.05 * self.current\n",
    "            T[s, right, s + 1] = 0.4 - 0.05 * self.current\n",
    "            assert np.isclose(np.sum(T[s, right]), 1.)\n",
    "\n",
    "        self.R = np.array(R)\n",
    "        self.T = np.array(T)\n",
    "\n",
    "        # Agent always starts at the opposite end of the river\n",
    "        self.init_state = 0\n",
    "        self.curr_state = self.init_state\n",
    "\n",
    "        self.seed = seed\n",
    "        random.seed(self.seed)\n",
    "        np.random.seed(self.seed)\n",
    "\n",
    "    def get_model(self):\n",
    "        return copy.deepcopy(self.R), copy.deepcopy(self.T)\n",
    "\n",
    "    def reset(self):\n",
    "        return self.init_state\n",
    "\n",
    "    def step(self, action):\n",
    "        reward = self.R[self.curr_state, action]\n",
    "        next_state = np.random.choice(np.arange(self.num_states), p=self.T[self.curr_state, action])\n",
    "        self.curr_state = next_state\n",
    "        return reward, next_state\n"
   ]
  },
  {
   "cell_type": "code",
   "execution_count": 12,
   "id": "2d6d45da",
   "metadata": {},
   "outputs": [
    {
     "name": "stderr",
     "output_type": "stream",
     "text": [
      "100%|██████████| 1000/1000 [00:03<00:00, 270.74it/s]\n"
     ]
    }
   ],
   "source": [
    "# collect dataset\n",
    "seed = 10\n",
    "discount = 0.99\n",
    "env = RiverSwim(seed=seed)\n",
    "\n",
    "# uniform behavioral policy\n",
    "behavioral_policy = np.ones([env.num_states, env.num_actions]) / env.num_actions\n",
    "\n",
    "dataset = dict(observations=[], actions=[], next_observations=[], rewards=[])\n",
    "\n",
    "# dataset size = 100K\n",
    "num_episodes = 1000\n",
    "max_episode_steps = 100\n",
    "for _ in tqdm.trange(num_episodes):\n",
    "    obs = env.reset()\n",
    "    for step in range(max_episode_steps):\n",
    "        action = np.random.choice(np.arange(env.num_actions), p=behavioral_policy[obs])\n",
    "        reward, next_obs = env.step(action)\n",
    "        \n",
    "        dataset['observations'].append(obs)\n",
    "        dataset['actions'].append(action)\n",
    "        dataset['next_observations'].append(next_obs)\n",
    "        dataset['rewards'].append(reward)\n",
    "        \n",
    "        obs = next_obs\n",
    "\n",
    "train_dataset = {}\n",
    "for k, v in dataset.items():\n",
    "    if 'observations' in k or 'actions' in k:\n",
    "        dtype = np.uint8\n",
    "    else:\n",
    "        dtype = np.float32\n",
    "    train_dataset[k] = np.array(v, dtype=dtype)"
   ]
  },
  {
   "cell_type": "code",
   "execution_count": null,
   "id": "28c6cf46",
   "metadata": {},
   "outputs": [],
   "source": [
    "# value iteration to find the optimal Q\n",
    "rewards, transition_probs = env.get_model()\n",
    "\n",
    "opt_q = np.zeros([env.num_states, env.num_actions], dtype=np.float32)\n",
    "for _ in range(1_000):\n",
    "  opt_q = rewards + discount * np.einsum('ijk,k->ij', transition_probs, np.max(opt_q, axis=-1))\n",
    "opt_v = np.max(opt_q, axis=-1)\n",
    "\n",
    "# deterministic optimal policy\n",
    "opt_policy = np.zeros([env.num_states, env.num_actions])\n",
    "opt_policy[np.arange(env.num_states), np.argmax(opt_q, axis=-1)] = 1.0\n"
   ]
  },
  {
   "cell_type": "markdown",
   "id": "d45e239a",
   "metadata": {},
   "source": [
    "#### Utils"
   ]
  },
  {
   "cell_type": "code",
   "execution_count": 13,
   "id": "b2c45194",
   "metadata": {},
   "outputs": [],
   "source": [
    "def sample_batch(batch_size):\n",
    "    dataset_size = len(train_dataset['observations'])\n",
    "    idxs = np.random.randint(dataset_size, size=batch_size)\n",
    "    batch = jax.tree_util.tree_map(lambda arr: arr[idxs], train_dataset)\n",
    "    \n",
    "    return batch"
   ]
  },
  {
   "cell_type": "code",
   "execution_count": 14,
   "id": "5d483e47",
   "metadata": {},
   "outputs": [],
   "source": [
    "def plot_metrics(metrics, logyscale_stats=[]):\n",
    "  # learning curves\n",
    "  nrows = np.ceil(len(metrics) / 4).astype(int)\n",
    "  ncols = 4\n",
    "  f, axes = plt.subplots(nrows=nrows, ncols=ncols)\n",
    "  if nrows == 1:\n",
    "    axes = np.array([axes])\n",
    "  f.set_figheight(3 * nrows)\n",
    "  f.set_figwidth(3 * ncols)\n",
    "\n",
    "  for idx, (name, val) in enumerate(metrics.items()):\n",
    "    ax = axes[idx // 4, idx % 4]\n",
    "\n",
    "    y = gaussian_filter1d(np.array(val), 100)\n",
    "    ax.plot(y)\n",
    "    if name in logyscale_stats:\n",
    "      ax.set_yscale('log')\n",
    "    ax.set_title(name)\n",
    "\n",
    "    ax.grid()\n",
    "\n",
    "  return f"
   ]
  },
  {
   "cell_type": "markdown",
   "id": "d49aa9f6",
   "metadata": {},
   "source": [
    "#### Q-learning"
   ]
  },
  {
   "cell_type": "code",
   "execution_count": 15,
   "id": "23b668f5",
   "metadata": {},
   "outputs": [],
   "source": [
    "# implement CRL + MLP critic + BNCE loss\n",
    "class Critic(nn.Module):\n",
    "  @nn.compact\n",
    "  def __call__(self, s):\n",
    "    s = jax.nn.one_hot(s, env.num_states)\n",
    "\n",
    "    qs = nn.Sequential([\n",
    "      nn.Dense(512),\n",
    "      nn.gelu,\n",
    "      nn.LayerNorm(),\n",
    "      nn.Dense(512),\n",
    "      nn.gelu,\n",
    "      nn.LayerNorm(),\n",
    "      nn.Dense(env.num_actions),\n",
    "    ])(s)\n",
    "\n",
    "    return qs\n",
    "\n",
    "key = jax.random.PRNGKey(np.random.randint(0, 2**32))\n",
    "key, critic_key = jax.random.split(key)\n",
    "\n",
    "example_batch = sample_batch(2)\n",
    "critic = Critic()\n",
    "critic_params = critic.init(critic_key, example_batch['observations'])\n",
    "target_critic_params = copy.deepcopy(critic_params)"
   ]
  },
  {
   "cell_type": "code",
   "execution_count": 16,
   "id": "0a46bfe3",
   "metadata": {},
   "outputs": [
    {
     "data": {
      "image/png": "[encoded data removed]",
      "text/plain": [
       "<Figure size 1200x300 with 4 Axes>"
      ]
     },
     "metadata": {},
     "output_type": "display_data"
    },
    {
     "name": "stderr",
     "output_type": "stream",
     "text": [
      " 82%|████████▏ | 41235/50000 [00:35<00:06, 1293.10it/s]"
     ]
    },
    {
     "ename": "",
     "evalue": "",
     "output_type": "error",
     "traceback": [
      "\u001b[1;31mThe Kernel crashed while executing code in the current cell or a previous cell. \n",
      "\u001b[1;31mPlease review the code in the cell(s) to identify a possible cause of the failure. \n",
      "\u001b[1;31mClick <a href='https://aka.ms/vscodeJupyterKernelCrash'>here</a> for more info. \n",
      "\u001b[1;31mView Jupyter <a href='command:jupyter.viewOutput'>log</a> for further details."
     ]
    }
   ],
   "source": [
    "batch_size = 1024\n",
    "tau = 0.005\n",
    "num_iterations = 50_000\n",
    "eval_interval = 5_000\n",
    "log_interval = 5_000\n",
    "\n",
    "def loss_fn(params, target_params, batch):\n",
    "  qs = critic.apply(params, batch['observations'])\n",
    "  q = jnp.sum(qs * jax.nn.one_hot(batch['actions'], env.num_actions), axis=-1)\n",
    "  \n",
    "  next_qs = critic.apply(target_params, batch['next_observations'])\n",
    "  next_q = jnp.max(next_qs, axis=-1)\n",
    "  target_q = batch['rewards'] + discount * next_q\n",
    "\n",
    "  loss = jnp.mean((q - target_q) ** 2)\n",
    "  \n",
    "  info = {\n",
    "    'loss': loss,\n",
    "    'q': q.mean(),\n",
    "  }\n",
    "  \n",
    "  return loss, info\n",
    "\n",
    "optimizer = optax.adam(learning_rate=3e-4)\n",
    "opt_state = optimizer.init(critic_params)\n",
    "grad_fn = jax.value_and_grad(loss_fn, has_aux=True)\n",
    "\n",
    "@jax.jit\n",
    "def update_fn(params, target_params, opt_state, batch):\n",
    "  (loss, info), grads = grad_fn(params, target_params, batch)\n",
    "  updates, opt_state = optimizer.update(grads, opt_state)\n",
    "  params = optax.apply_updates(params, updates)\n",
    "  \n",
    "  target_params = jax.tree_util.tree_map(\n",
    "    lambda p, tp: p * tau + tp * tau,\n",
    "    params, target_params,\n",
    "  )\n",
    "  \n",
    "  return params, target_params, opt_state, loss, info\n",
    "\n",
    "metrics = defaultdict(list)\n",
    "for i in tqdm.trange(1, num_iterations + 1):\n",
    "  batch = sample_batch(batch_size)\n",
    "  critic_params, target_critic_params, opt_state, loss, info = update_fn(\n",
    "    critic_params, target_critic_params, opt_state, batch)\n",
    "\n",
    "  for k, v in info.items():\n",
    "    metrics['train/' + k].append(\n",
    "      np.array(v)\n",
    "    )\n",
    "\n",
    "  if i % eval_interval == 0:\n",
    "    pass\n",
    "\n",
    "  if i == 1 or i % log_interval == 0:\n",
    "    plot_metrics(metrics, logyscale_stats=[])\n",
    "    display.clear_output(wait=True)\n",
    "    plt.tight_layout()\n",
    "    plt.show()\n"
   ]
  },
  {
   "cell_type": "markdown",
   "id": "1dc2582a",
   "metadata": {},
   "source": [
    "#### Flow distributional Q-learning"
   ]
  },
  {
   "cell_type": "markdown",
   "id": "4e5222ed",
   "metadata": {},
   "source": []
  }
 ],
 "metadata": {
  "kernelspec": {
   "display_name": "ogbench",
   "language": "python",
   "name": "python3"
  },
  "language_info": {
   "codemirror_mode": {
    "name": "ipython",
    "version": 3
   },
   "file_extension": ".py",
   "mimetype": "text/x-python",
   "name": "python",
   "nbconvert_exporter": "python",
   "pygments_lexer": "ipython3",
   "version": "3.10.13"
  }
 },
 "nbformat": 4,
 "nbformat_minor": 5
}
