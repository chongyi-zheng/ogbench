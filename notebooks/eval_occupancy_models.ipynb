{
 "cells": [
  {
   "cell_type": "code",
   "execution_count": null,
   "id": "67ab8891",
   "metadata": {},
   "outputs": [
    {
     "name": "stderr",
     "output_type": "stream",
     "text": [
      "error: XDG_RUNTIME_DIR is invalid or not set in the environment.\n",
      "2025-07-30 22:59:27.766626: I tensorflow/core/util/port.cc:113] oneDNN custom operations are on. You may see slightly different numerical results due to floating-point round-off errors from different computation orders. To turn them off, set the environment variable `TF_ENABLE_ONEDNN_OPTS=0`.\n",
      "2025-07-30 22:59:27.802898: E external/local_xla/xla/stream_executor/cuda/cuda_dnn.cc:9261] Unable to register cuDNN factory: Attempting to register factory for plugin cuDNN when one has already been registered\n",
      "2025-07-30 22:59:27.802921: E external/local_xla/xla/stream_executor/cuda/cuda_fft.cc:607] Unable to register cuFFT factory: Attempting to register factory for plugin cuFFT when one has already been registered\n",
      "2025-07-30 22:59:27.803954: E external/local_xla/xla/stream_executor/cuda/cuda_blas.cc:1515] Unable to register cuBLAS factory: Attempting to register factory for plugin cuBLAS when one has already been registered\n",
      "2025-07-30 22:59:27.809730: I tensorflow/core/platform/cpu_feature_guard.cc:182] This TensorFlow binary is optimized to use available CPU instructions in performance-critical operations.\n",
      "To enable the following instructions: AVX2 AVX512F AVX512_VNNI FMA, in other operations, rebuild TensorFlow with the appropriate compiler flags.\n",
      "2025-07-30 22:59:28.713113: W tensorflow/compiler/tf2tensorrt/utils/py_utils.cc:38] TF-TRT Warning: Could not find TensorRT\n"
     ]
    }
   ],
   "source": [
    "import sys\n",
    "\n",
    "from absl import flags\n",
    "from ml_collections import config_flags\n",
    "from collections import defaultdict\n",
    "from tqdm import trange\n",
    "from PIL import Image, ImageEnhance\n",
    "import moviepy.editor as mpy\n",
    "import matplotlib.pyplot as plt\n",
    "\n",
    "import tensorflow as tf\n",
    "import random\n",
    "import jax\n",
    "import jax.numpy as jnp\n",
    "import numpy as np\n",
    "\n",
    "from agents import agents\n",
    "from utils.env_utils import make_env_and_datasets\n",
    "from utils.datasets import Dataset\n",
    "from utils.flax_utils import restore_agent\n",
    "from utils.evaluation import supply_rng, add_to, flatten"
   ]
  },
  {
   "cell_type": "code",
   "execution_count": 1,
   "id": "069bbc18",
   "metadata": {},
   "outputs": [
    {
     "ename": "NameError",
     "evalue": "name 'flags' is not defined",
     "output_type": "error",
     "traceback": [
      "\u001b[0;31m---------------------------------------------------------------------------\u001b[0m",
      "\u001b[0;31mNameError\u001b[0m                                 Traceback (most recent call last)",
      "Cell \u001b[0;32mIn[1], line 1\u001b[0m\n\u001b[0;32m----> 1\u001b[0m FLAGS \u001b[38;5;241m=\u001b[39m \u001b[43mflags\u001b[49m\u001b[38;5;241m.\u001b[39mFLAGS\n\u001b[1;32m      3\u001b[0m \u001b[38;5;66;03m# flags.DEFINE_string('env_name', 'quadruped_jump', 'Environment (dataset) name.')\u001b[39;00m\n\u001b[1;32m      4\u001b[0m \u001b[38;5;66;03m# flags.DEFINE_string('env_name', 'scene-play-singletask-task1-v0', 'Environment (dataset) name.')\u001b[39;00m\n\u001b[1;32m      5\u001b[0m flags\u001b[38;5;241m.\u001b[39mDEFINE_string(\u001b[38;5;124m'\u001b[39m\u001b[38;5;124menv_name\u001b[39m\u001b[38;5;124m'\u001b[39m, \u001b[38;5;124m'\u001b[39m\u001b[38;5;124mcube-single-play-singletask-task2-v0\u001b[39m\u001b[38;5;124m'\u001b[39m, \u001b[38;5;124m'\u001b[39m\u001b[38;5;124mEnvironment (dataset) name.\u001b[39m\u001b[38;5;124m'\u001b[39m)\n",
      "\u001b[0;31mNameError\u001b[0m: name 'flags' is not defined"
     ]
    }
   ],
   "source": [
    "FLAGS = flags.FLAGS\n",
    "\n",
    "# flags.DEFINE_string('env_name', 'quadruped_jump', 'Environment (dataset) name.')\n",
    "# flags.DEFINE_string('env_name', 'scene-play-singletask-task1-v0', 'Environment (dataset) name.')\n",
    "flags.DEFINE_string('env_name', 'cube-single-play-singletask-task2-v0', 'Environment (dataset) name.')\n",
    "flags.DEFINE_integer('seed', 10, 'Random seed.')\n",
    "flags.DEFINE_string('obs_norm_type', 'normal', 'Type of observation normalization. (none, normal, bounded)')\n",
    "flags.DEFINE_float('p_aug', None, 'Probability of applying image augmentation.')\n",
    "flags.DEFINE_integer('num_aug', 1, 'Number of image augmentations.')\n",
    "flags.DEFINE_integer('inplace_aug', 1, 'Whether to replace the original image after applying augmentations.')\n",
    "flags.DEFINE_integer('frame_stack', None, 'Number of frames to stack.')\n",
    "config_flags.DEFINE_config_file('agent', '../impls/agents/sarsa_ifql_vib_gpi.py', lock_config=False)\n",
    "# config_flags.DEFINE_config_file('agent', '../impls/agents/fb_repr_fom.py', lock_config=False)\n",
    "\n",
    "if not FLAGS.is_parsed():\n",
    "    FLAGS(sys.argv, known_only=True)\n",
    "\n",
    "config = FLAGS.agent\n",
    "config['latent_dim'] = 512\n",
    "config['clip_flow_goals'] = True\n",
    "# config['transition_layer_norm'] = True\n",
    "config['value_layer_norm'] = True\n",
    "\n",
    "_, env, dataset, _ = make_env_and_datasets(\n",
    "    FLAGS.env_name, frame_stack=FLAGS.frame_stack, max_size=10_000_000, reward_free=True)\n",
    "\n",
    "# Initialize agent.\n",
    "random.seed(FLAGS.seed)\n",
    "np.random.seed(FLAGS.seed)\n",
    "tf.random.set_seed(FLAGS.seed)\n",
    "\n",
    "# Set up datasets.\n",
    "dataset = Dataset.create(**dataset)\n",
    "dataset.obs_norm_type = FLAGS.obs_norm_type\n",
    "dataset.p_aug = FLAGS.p_aug\n",
    "dataset.num_aug = FLAGS.num_aug\n",
    "dataset.inplace_aug = FLAGS.inplace_aug\n",
    "dataset.frame_stack = FLAGS.frame_stack\n",
    "dataset.return_next_actions = True\n",
    "dataset.normalize_observations()\n",
    "\n",
    "example_batch = dataset.sample(1)\n",
    "\n",
    "agent_class = agents[config['agent_name']]\n",
    "agent = agent_class.create(\n",
    "    FLAGS.seed,\n",
    "    example_batch['observations'],\n",
    "    example_batch['actions'],\n",
    "    config,\n",
    ")"
   ]
  },
  {
   "cell_type": "code",
   "execution_count": 3,
   "id": "874c067f",
   "metadata": {},
   "outputs": [
    {
     "name": "stdout",
     "output_type": "stream",
     "text": [
      "Restored from /n/fs/rl-chongyiz/exp_logs/ogbench_logs/sarsa_ifql_vib_gpi_offline2offline/20250727_sarsa_ifql_vib_gpi_offline2offline_cube-single-play-singletask-task2-v0_obs_norm=normal_alpha=30.0_ft_size=500000_ft_steps=500000_eval_freq=10000_num_fg=16_actor_freq=4_expectile=0.95_actor_ln=False_kl_weight=0.05_latent_dim=512_value_ln=True/200/debug/sd200_s_24622607.0.20250727_230701/params_1500000.pkl\n"
     ]
    }
   ],
   "source": [
    "# InFOM\n",
    "# restore_path = '/n/fs/rl-chongyiz/exp_logs/ogbench_logs/sarsa_ifql_vib_gpi_offline2offline/20250504_sarsa_ifql_vib_gpi_offline2offline_quadruped_jump_obs_norm=normal_alpha=0.3_num_fg=16_actor_freq=4_expectile=0.9_critic_z_type=prior_vf_time_emb=False_transition_ln=True_kl_weight=0.005_latent_dim=128/300/debug/sd300_s_23747733.0.20250504_064407'\n",
    "# restore_path = '/n/fs/rl-chongyiz/exp_logs/ogbench_logs/sarsa_ifql_vib_gpi_offline2offline/20250509_sarsa_ifql_vib_gpi_offline2offline_scene-play-singletask-task1-v0_obs_norm=normal_alpha=300.0_num_fg=16_actor_freq=4_expectile=0.99_critic_z_type=prior_vf_time_emb=False_actor_ln=False_kl_weight=0.2_latent_dim=128_clip_fg=True/200/debug/sd200_s_2154372.0.20250509_015603'\n",
    "restore_path = '/n/fs/rl-chongyiz/exp_logs/ogbench_logs/sarsa_ifql_vib_gpi_offline2offline/20250727_sarsa_ifql_vib_gpi_offline2offline_cube-single-play-singletask-task2-v0_obs_norm=normal_alpha=30.0_ft_size=500000_ft_steps=500000_eval_freq=10000_num_fg=16_actor_freq=4_expectile=0.95_actor_ln=False_kl_weight=0.05_latent_dim=512_value_ln=True/200/debug/sd200_s_24622607.0.20250727_230701'\n",
    "# FOM\n",
    "# restore_path = '/n/fs/rl-chongyiz/exp_logs/ogbench_logs/fb_repr_fom_offline2offline/20250512_fb_repr_fom_offline2offline_quadruped_jump_obs_norm_type=normal_repr_alpha=10.0_alpha=0.3_num_fg=16_expectile=0.9_actor_freq=4_latent_dim=128_clip_fg=True/200/debug/sd200_s_2156137.0.20250512_132446'\n",
    "restore_epoch = 1_500_000\n",
    "\n",
    "agent_class = agents[config['agent_name']]\n",
    "agent = agent_class.create(\n",
    "    FLAGS.seed,\n",
    "    example_batch['observations'],\n",
    "    example_batch['actions'],\n",
    "    config,\n",
    ")\n",
    "agent = restore_agent(agent, restore_path, restore_epoch)"
   ]
  },
  {
   "cell_type": "markdown",
   "id": "592d2953",
   "metadata": {},
   "source": [
    "##### InFOM quadruped_jump"
   ]
  },
  {
   "cell_type": "code",
   "execution_count": 12,
   "id": "2a9375f5",
   "metadata": {},
   "outputs": [
    {
     "name": "stdout",
     "output_type": "stream",
     "text": [
      "(40, 400, 78)\n",
      "(40, 400, 1000, 78)\n",
      "1.9226277\n"
     ]
    }
   ],
   "source": [
    "rng = jax.random.PRNGKey(FLAGS.seed)\n",
    "(terminal_locs,) = np.nonzero(dataset['terminals'] > 0)\n",
    "initial_locs = np.concatenate([[0], terminal_locs[:-1] + 1])\n",
    "\n",
    "num_trajs = 40\n",
    "num_flow_futre_states = 400\n",
    "\n",
    "idxs = np.random.randint(dataset.size, size=num_trajs)\n",
    "initial_idxs = initial_locs[np.searchsorted(initial_locs, idxs, side='right') - 1]\n",
    "terminal_idxs = terminal_locs[np.searchsorted(terminal_locs, idxs)]\n",
    "\n",
    "trajs = defaultdict(list)\n",
    "for init_idx, term_idx in zip(initial_idxs, terminal_idxs):\n",
    "    trajs['observations'].append(dataset['observations'][init_idx:term_idx + 1])\n",
    "    trajs['actions'].append(dataset['actions'][init_idx:term_idx + 1])\n",
    "\n",
    "trajs['observations'] = np.asarray(trajs['observations'])\n",
    "trajs['actions'] = np.asarray(trajs['actions'])\n",
    "\n",
    "initial_observations = jnp.asarray(trajs['observations'][:, 0])\n",
    "initial_actions = jnp.asarray(trajs['actions'][:, 0])\n",
    "initial_next_observations = jnp.asarray(trajs['observations'][:, 1])\n",
    "initial_next_actions = jnp.asarray(trajs['actions'][:, 1])\n",
    "\n",
    "# predict z\n",
    "latent_dist = agent.network.select('transition_encoder')(initial_next_observations, initial_next_actions)\n",
    "latents = latent_dist.mode()\n",
    "\n",
    "# sample future states\n",
    "rng, noise_rng = jax.random.split(rng)\n",
    "noises = jax.random.normal(\n",
    "    noise_rng,\n",
    "    shape=(num_flow_futre_states, *initial_observations.shape),\n",
    "    dtype=initial_observations.dtype\n",
    ")\n",
    "flow_future_states = agent.compute_fwd_flow_goals(\n",
    "    noises,\n",
    "    jnp.broadcast_to(\n",
    "        initial_observations[None],\n",
    "        (num_flow_futre_states, *initial_observations.shape)\n",
    "    ),\n",
    "    jnp.broadcast_to(\n",
    "        initial_actions[None],\n",
    "        (num_flow_futre_states, *initial_actions.shape)\n",
    "    ),\n",
    "    jnp.broadcast_to(\n",
    "        latents[None],\n",
    "        (num_flow_futre_states, *latents.shape)\n",
    "    ),\n",
    "    observation_min=example_batch['observation_min'],\n",
    "    observation_max=example_batch['observation_max'],\n",
    ")\n",
    "flow_future_states = flow_future_states.transpose([1, 0, 2])\n",
    "\n",
    "print(flow_future_states.shape)\n",
    "print(((flow_future_states[:, :, None] - trajs['observations'][:, None]) ** 2).shape)\n",
    "\n",
    "pairwise_mse = jnp.mean((flow_future_states[:, :, None] - trajs['observations'][:, None]) ** 2)\n",
    "print(pairwise_mse)"
   ]
  },
  {
   "cell_type": "code",
   "execution_count": null,
   "id": "459c7c71",
   "metadata": {},
   "outputs": [
    {
     "name": "stdout",
     "output_type": "stream",
     "text": [
      "1.8943945000000002\n",
      "0.01911674410719564\n"
     ]
    }
   ],
   "source": [
    "a = np.array([1.8885841, 1.8694075, 1.8969587, 1.9226277])\n",
    "print(np.mean(a))\n",
    "print(np.std(a))"
   ]
  },
  {
   "cell_type": "markdown",
   "id": "80475237",
   "metadata": {},
   "source": [
    "##### InFOM scene-play-singletask-task1-v0"
   ]
  },
  {
   "cell_type": "code",
   "execution_count": 4,
   "id": "ae75eda2",
   "metadata": {},
   "outputs": [
    {
     "name": "stderr",
     "output_type": "stream",
     "text": [
      "WARNING:py.warnings:/u/cz8792/research/ogbench/impls/utils/networks.py:741: DeprecationWarning: invalid escape sequence '\\p'\n",
      "  \"\"\"Metric value function.\n",
      "\n"
     ]
    },
    {
     "ename": "ScopeParamShapeError",
     "evalue": "Initializer expected to generate shape (33, 512) but got shape (45, 512) instead for parameter \"kernel\" in \"/modules_transition_encoder/trunk_net/Dense_0\". (https://flax.readthedocs.io/en/latest/api_reference/flax.errors.html#flax.errors.ScopeParamShapeError)",
     "output_type": "error",
     "traceback": [
      "\u001b[0;31m---------------------------------------------------------------------------\u001b[0m",
      "\u001b[0;31mScopeParamShapeError\u001b[0m                      Traceback (most recent call last)",
      "Cell \u001b[0;32mIn[4], line 26\u001b[0m\n\u001b[1;32m     23\u001b[0m initial_next_actions \u001b[38;5;241m=\u001b[39m jnp\u001b[38;5;241m.\u001b[39masarray(trajs[\u001b[38;5;124m'\u001b[39m\u001b[38;5;124mactions\u001b[39m\u001b[38;5;124m'\u001b[39m][:, \u001b[38;5;241m1\u001b[39m])\n\u001b[1;32m     25\u001b[0m \u001b[38;5;66;03m# predict z\u001b[39;00m\n\u001b[0;32m---> 26\u001b[0m latent_dist \u001b[38;5;241m=\u001b[39m \u001b[43magent\u001b[49m\u001b[38;5;241;43m.\u001b[39;49m\u001b[43mnetwork\u001b[49m\u001b[38;5;241;43m.\u001b[39;49m\u001b[43mselect\u001b[49m\u001b[43m(\u001b[49m\u001b[38;5;124;43m'\u001b[39;49m\u001b[38;5;124;43mtransition_encoder\u001b[39;49m\u001b[38;5;124;43m'\u001b[39;49m\u001b[43m)\u001b[49m\u001b[43m(\u001b[49m\u001b[43minitial_next_observations\u001b[49m\u001b[43m,\u001b[49m\u001b[43m \u001b[49m\u001b[43minitial_next_actions\u001b[49m\u001b[43m)\u001b[49m\n\u001b[1;32m     27\u001b[0m latents \u001b[38;5;241m=\u001b[39m latent_dist\u001b[38;5;241m.\u001b[39mmode()\n\u001b[1;32m     29\u001b[0m \u001b[38;5;66;03m# sample future states\u001b[39;00m\n",
      "File \u001b[0;32m~/research/ogbench/impls/utils/flax_utils.py:114\u001b[0m, in \u001b[0;36mTrainState.__call__\u001b[0;34m(self, params, method, *args, **kwargs)\u001b[0m\n\u001b[1;32m    111\u001b[0m \u001b[38;5;28;01melse\u001b[39;00m:\n\u001b[1;32m    112\u001b[0m     method_name \u001b[38;5;241m=\u001b[39m \u001b[38;5;28;01mNone\u001b[39;00m\n\u001b[0;32m--> 114\u001b[0m \u001b[38;5;28;01mreturn\u001b[39;00m \u001b[38;5;28;43mself\u001b[39;49m\u001b[38;5;241;43m.\u001b[39;49m\u001b[43mapply_fn\u001b[49m\u001b[43m(\u001b[49m\u001b[43mvariables\u001b[49m\u001b[43m,\u001b[49m\u001b[43m \u001b[49m\u001b[38;5;241;43m*\u001b[39;49m\u001b[43margs\u001b[49m\u001b[43m,\u001b[49m\u001b[43m \u001b[49m\u001b[43mmethod\u001b[49m\u001b[38;5;241;43m=\u001b[39;49m\u001b[43mmethod_name\u001b[49m\u001b[43m,\u001b[49m\u001b[43m \u001b[49m\u001b[38;5;241;43m*\u001b[39;49m\u001b[38;5;241;43m*\u001b[39;49m\u001b[43mkwargs\u001b[49m\u001b[43m)\u001b[49m\n",
      "    \u001b[0;31m[... skipping hidden 6 frame]\u001b[0m\n",
      "File \u001b[0;32m~/research/ogbench/impls/utils/flax_utils.py:50\u001b[0m, in \u001b[0;36mModuleDict.__call__\u001b[0;34m(self, name, *args, **kwargs)\u001b[0m\n\u001b[1;32m     47\u001b[0m             out[key] \u001b[38;5;241m=\u001b[39m \u001b[38;5;28mself\u001b[39m\u001b[38;5;241m.\u001b[39mmodules[key](value)\n\u001b[1;32m     48\u001b[0m     \u001b[38;5;28;01mreturn\u001b[39;00m out\n\u001b[0;32m---> 50\u001b[0m \u001b[38;5;28;01mreturn\u001b[39;00m \u001b[38;5;28;43mself\u001b[39;49m\u001b[38;5;241;43m.\u001b[39;49m\u001b[43mmodules\u001b[49m\u001b[43m[\u001b[49m\u001b[43mname\u001b[49m\u001b[43m]\u001b[49m\u001b[43m(\u001b[49m\u001b[38;5;241;43m*\u001b[39;49m\u001b[43margs\u001b[49m\u001b[43m,\u001b[49m\u001b[43m \u001b[49m\u001b[38;5;241;43m*\u001b[39;49m\u001b[38;5;241;43m*\u001b[39;49m\u001b[43mkwargs\u001b[49m\u001b[43m)\u001b[49m\n",
      "    \u001b[0;31m[... skipping hidden 2 frame]\u001b[0m\n",
      "File \u001b[0;32m~/research/ogbench/impls/utils/networks.py:404\u001b[0m, in \u001b[0;36mTransitionEncoder.__call__\u001b[0;34m(self, observations, actions)\u001b[0m\n\u001b[1;32m    402\u001b[0m     observations \u001b[38;5;241m=\u001b[39m \u001b[38;5;28mself\u001b[39m\u001b[38;5;241m.\u001b[39mencoder(observations)\n\u001b[1;32m    403\u001b[0m inputs \u001b[38;5;241m=\u001b[39m jnp\u001b[38;5;241m.\u001b[39mconcatenate([observations, actions], axis\u001b[38;5;241m=\u001b[39m\u001b[38;5;241m-\u001b[39m\u001b[38;5;241m1\u001b[39m)\n\u001b[0;32m--> 404\u001b[0m outputs \u001b[38;5;241m=\u001b[39m \u001b[38;5;28;43mself\u001b[39;49m\u001b[38;5;241;43m.\u001b[39;49m\u001b[43mtrunk_net\u001b[49m\u001b[43m(\u001b[49m\u001b[43minputs\u001b[49m\u001b[43m)\u001b[49m\n\u001b[1;32m    406\u001b[0m means \u001b[38;5;241m=\u001b[39m \u001b[38;5;28mself\u001b[39m\u001b[38;5;241m.\u001b[39mmean_net(outputs)\n\u001b[1;32m    407\u001b[0m log_stds \u001b[38;5;241m=\u001b[39m \u001b[38;5;28mself\u001b[39m\u001b[38;5;241m.\u001b[39mlog_std_net(outputs)\n",
      "    \u001b[0;31m[... skipping hidden 2 frame]\u001b[0m\n",
      "File \u001b[0;32m~/research/ogbench/impls/utils/networks.py:56\u001b[0m, in \u001b[0;36mMLP.__call__\u001b[0;34m(self, x)\u001b[0m\n\u001b[1;32m     53\u001b[0m \u001b[38;5;129m@nn\u001b[39m\u001b[38;5;241m.\u001b[39mcompact\n\u001b[1;32m     54\u001b[0m \u001b[38;5;28;01mdef\u001b[39;00m\u001b[38;5;250m \u001b[39m\u001b[38;5;21m__call__\u001b[39m(\u001b[38;5;28mself\u001b[39m, x):\n\u001b[1;32m     55\u001b[0m     \u001b[38;5;28;01mfor\u001b[39;00m i, size \u001b[38;5;129;01min\u001b[39;00m \u001b[38;5;28menumerate\u001b[39m(\u001b[38;5;28mself\u001b[39m\u001b[38;5;241m.\u001b[39mhidden_dims):\n\u001b[0;32m---> 56\u001b[0m         x \u001b[38;5;241m=\u001b[39m \u001b[43mnn\u001b[49m\u001b[38;5;241;43m.\u001b[39;49m\u001b[43mDense\u001b[49m\u001b[43m(\u001b[49m\u001b[43msize\u001b[49m\u001b[43m,\u001b[49m\u001b[43m \u001b[49m\u001b[43mkernel_init\u001b[49m\u001b[38;5;241;43m=\u001b[39;49m\u001b[38;5;28;43mself\u001b[39;49m\u001b[38;5;241;43m.\u001b[39;49m\u001b[43mkernel_init\u001b[49m\u001b[43m)\u001b[49m\u001b[43m(\u001b[49m\u001b[43mx\u001b[49m\u001b[43m)\u001b[49m\n\u001b[1;32m     57\u001b[0m         \u001b[38;5;28;01mif\u001b[39;00m i \u001b[38;5;241m+\u001b[39m \u001b[38;5;241m1\u001b[39m \u001b[38;5;241m<\u001b[39m \u001b[38;5;28mlen\u001b[39m(\u001b[38;5;28mself\u001b[39m\u001b[38;5;241m.\u001b[39mhidden_dims) \u001b[38;5;129;01mor\u001b[39;00m \u001b[38;5;28mself\u001b[39m\u001b[38;5;241m.\u001b[39mactivate_final:\n\u001b[1;32m     58\u001b[0m             x \u001b[38;5;241m=\u001b[39m \u001b[38;5;28mself\u001b[39m\u001b[38;5;241m.\u001b[39mactivations(x)\n",
      "    \u001b[0;31m[... skipping hidden 2 frame]\u001b[0m\n",
      "File \u001b[0;32m~/.conda/envs/ogbench/lib/python3.10/site-packages/flax/linen/linear.py:251\u001b[0m, in \u001b[0;36mDense.__call__\u001b[0;34m(self, inputs)\u001b[0m\n\u001b[1;32m    241\u001b[0m \u001b[38;5;129m@compact\u001b[39m\n\u001b[1;32m    242\u001b[0m \u001b[38;5;28;01mdef\u001b[39;00m\u001b[38;5;250m \u001b[39m\u001b[38;5;21m__call__\u001b[39m(\u001b[38;5;28mself\u001b[39m, inputs: Array) \u001b[38;5;241m-\u001b[39m\u001b[38;5;241m>\u001b[39m Array:\n\u001b[1;32m    243\u001b[0m \u001b[38;5;250m  \u001b[39m\u001b[38;5;124;03m\"\"\"Applies a linear transformation to the inputs along the last dimension.\u001b[39;00m\n\u001b[1;32m    244\u001b[0m \n\u001b[1;32m    245\u001b[0m \u001b[38;5;124;03m  Args:\u001b[39;00m\n\u001b[0;32m   (...)\u001b[0m\n\u001b[1;32m    249\u001b[0m \u001b[38;5;124;03m    The transformed input.\u001b[39;00m\n\u001b[1;32m    250\u001b[0m \u001b[38;5;124;03m  \"\"\"\u001b[39;00m\n\u001b[0;32m--> 251\u001b[0m   kernel \u001b[38;5;241m=\u001b[39m \u001b[38;5;28;43mself\u001b[39;49m\u001b[38;5;241;43m.\u001b[39;49m\u001b[43mparam\u001b[49m\u001b[43m(\u001b[49m\n\u001b[1;32m    252\u001b[0m \u001b[43m    \u001b[49m\u001b[38;5;124;43m'\u001b[39;49m\u001b[38;5;124;43mkernel\u001b[39;49m\u001b[38;5;124;43m'\u001b[39;49m\u001b[43m,\u001b[49m\n\u001b[1;32m    253\u001b[0m \u001b[43m    \u001b[49m\u001b[38;5;28;43mself\u001b[39;49m\u001b[38;5;241;43m.\u001b[39;49m\u001b[43mkernel_init\u001b[49m\u001b[43m,\u001b[49m\n\u001b[1;32m    254\u001b[0m \u001b[43m    \u001b[49m\u001b[43m(\u001b[49m\u001b[43mjnp\u001b[49m\u001b[38;5;241;43m.\u001b[39;49m\u001b[43mshape\u001b[49m\u001b[43m(\u001b[49m\u001b[43minputs\u001b[49m\u001b[43m)\u001b[49m\u001b[43m[\u001b[49m\u001b[38;5;241;43m-\u001b[39;49m\u001b[38;5;241;43m1\u001b[39;49m\u001b[43m]\u001b[49m\u001b[43m,\u001b[49m\u001b[43m \u001b[49m\u001b[38;5;28;43mself\u001b[39;49m\u001b[38;5;241;43m.\u001b[39;49m\u001b[43mfeatures\u001b[49m\u001b[43m)\u001b[49m\u001b[43m,\u001b[49m\n\u001b[1;32m    255\u001b[0m \u001b[43m    \u001b[49m\u001b[38;5;28;43mself\u001b[39;49m\u001b[38;5;241;43m.\u001b[39;49m\u001b[43mparam_dtype\u001b[49m\u001b[43m,\u001b[49m\n\u001b[1;32m    256\u001b[0m \u001b[43m  \u001b[49m\u001b[43m)\u001b[49m\n\u001b[1;32m    257\u001b[0m   \u001b[38;5;28;01mif\u001b[39;00m \u001b[38;5;28mself\u001b[39m\u001b[38;5;241m.\u001b[39muse_bias:\n\u001b[1;32m    258\u001b[0m     bias \u001b[38;5;241m=\u001b[39m \u001b[38;5;28mself\u001b[39m\u001b[38;5;241m.\u001b[39mparam(\n\u001b[1;32m    259\u001b[0m       \u001b[38;5;124m'\u001b[39m\u001b[38;5;124mbias\u001b[39m\u001b[38;5;124m'\u001b[39m, \u001b[38;5;28mself\u001b[39m\u001b[38;5;241m.\u001b[39mbias_init, (\u001b[38;5;28mself\u001b[39m\u001b[38;5;241m.\u001b[39mfeatures,), \u001b[38;5;28mself\u001b[39m\u001b[38;5;241m.\u001b[39mparam_dtype\n\u001b[1;32m    260\u001b[0m     )\n",
      "    \u001b[0;31m[... skipping hidden 1 frame]\u001b[0m\n",
      "File \u001b[0;32m~/.conda/envs/ogbench/lib/python3.10/site-packages/flax/core/scope.py:960\u001b[0m, in \u001b[0;36mScope.param\u001b[0;34m(self, name, init_fn, unbox, *init_args, **init_kwargs)\u001b[0m\n\u001b[1;32m    955\u001b[0m   \u001b[38;5;28;01mfor\u001b[39;00m val, abs_val \u001b[38;5;129;01min\u001b[39;00m \u001b[38;5;28mzip\u001b[39m(value_flat, abs_value_flat):\n\u001b[1;32m    956\u001b[0m     \u001b[38;5;66;03m# NOTE: We could check dtype consistency here as well but it's\u001b[39;00m\n\u001b[1;32m    957\u001b[0m     \u001b[38;5;66;03m# usefuleness is less obvious. We might intentionally change the dtype\u001b[39;00m\n\u001b[1;32m    958\u001b[0m     \u001b[38;5;66;03m# for inference to a half float type for example.\u001b[39;00m\n\u001b[1;32m    959\u001b[0m     \u001b[38;5;28;01mif\u001b[39;00m jnp\u001b[38;5;241m.\u001b[39mshape(val) \u001b[38;5;241m!=\u001b[39m jnp\u001b[38;5;241m.\u001b[39mshape(abs_val):\n\u001b[0;32m--> 960\u001b[0m       \u001b[38;5;28;01mraise\u001b[39;00m errors\u001b[38;5;241m.\u001b[39mScopeParamShapeError(\n\u001b[1;32m    961\u001b[0m         name, \u001b[38;5;28mself\u001b[39m\u001b[38;5;241m.\u001b[39mpath_text, jnp\u001b[38;5;241m.\u001b[39mshape(abs_val), jnp\u001b[38;5;241m.\u001b[39mshape(val)\n\u001b[1;32m    962\u001b[0m       )\n\u001b[1;32m    963\u001b[0m \u001b[38;5;28;01melse\u001b[39;00m:\n\u001b[1;32m    964\u001b[0m   \u001b[38;5;28;01mif\u001b[39;00m \u001b[38;5;129;01mnot\u001b[39;00m \u001b[38;5;28mself\u001b[39m\u001b[38;5;241m.\u001b[39mis_mutable_collection(\u001b[38;5;124m'\u001b[39m\u001b[38;5;124mparams\u001b[39m\u001b[38;5;124m'\u001b[39m):\n",
      "\u001b[0;31mScopeParamShapeError\u001b[0m: Initializer expected to generate shape (33, 512) but got shape (45, 512) instead for parameter \"kernel\" in \"/modules_transition_encoder/trunk_net/Dense_0\". (https://flax.readthedocs.io/en/latest/api_reference/flax.errors.html#flax.errors.ScopeParamShapeError)"
     ]
    }
   ],
   "source": [
    "rng = jax.random.PRNGKey(FLAGS.seed)\n",
    "(terminal_locs,) = np.nonzero(dataset['terminals'] > 0)\n",
    "initial_locs = np.concatenate([[0], terminal_locs[:-1] + 1])\n",
    "\n",
    "num_trajs = 40\n",
    "num_flow_futre_states = 400\n",
    "\n",
    "idxs = np.random.randint(dataset.size, size=num_trajs)\n",
    "initial_idxs = initial_locs[np.searchsorted(initial_locs, idxs, side='right') - 1]\n",
    "terminal_idxs = terminal_locs[np.searchsorted(terminal_locs, idxs)]\n",
    "\n",
    "trajs = defaultdict(list)\n",
    "for init_idx, term_idx in zip(initial_idxs, terminal_idxs):\n",
    "    trajs['observations'].append(dataset['observations'][init_idx:term_idx + 1])\n",
    "    trajs['actions'].append(dataset['actions'][init_idx:term_idx + 1])\n",
    "\n",
    "trajs['observations'] = np.asarray(trajs['observations'])\n",
    "trajs['actions'] = np.asarray(trajs['actions'])\n",
    "\n",
    "initial_observations = jnp.asarray(trajs['observations'][:, 0])\n",
    "initial_actions = jnp.asarray(trajs['actions'][:, 0])\n",
    "initial_next_observations = jnp.asarray(trajs['observations'][:, 1])\n",
    "initial_next_actions = jnp.asarray(trajs['actions'][:, 1])\n",
    "\n",
    "# predict z\n",
    "latent_dist = agent.network.select('transition_encoder')(initial_next_observations, initial_next_actions)\n",
    "latents = latent_dist.mode()\n",
    "\n",
    "# sample future states\n",
    "rng, noise_rng = jax.random.split(rng)\n",
    "noises = jax.random.normal(\n",
    "    noise_rng,\n",
    "    shape=(num_flow_futre_states, *initial_observations.shape),\n",
    "    dtype=initial_observations.dtype\n",
    ")\n",
    "flow_future_states = agent.compute_fwd_flow_goals(\n",
    "    noises,\n",
    "    jnp.broadcast_to(\n",
    "        initial_observations[None],\n",
    "        (num_flow_futre_states, *initial_observations.shape)\n",
    "    ),\n",
    "    jnp.broadcast_to(\n",
    "        initial_actions[None],\n",
    "        (num_flow_futre_states, *initial_actions.shape)\n",
    "    ),\n",
    "    jnp.broadcast_to(\n",
    "        latents[None],\n",
    "        (num_flow_futre_states, *latents.shape)\n",
    "    ),\n",
    "    observation_min=example_batch['observation_min'],\n",
    "    observation_max=example_batch['observation_max'],\n",
    ")\n",
    "flow_future_states = flow_future_states.transpose([1, 0, 2])\n",
    "\n",
    "print(flow_future_states.shape)\n",
    "print(((flow_future_states[:, :, None] - trajs['observations'][:, None]) ** 2).shape)\n",
    "\n",
    "pairwise_mse = jnp.mean((flow_future_states[:, :, None] - trajs['observations'][:, None]) ** 2)\n",
    "print(pairwise_mse)"
   ]
  },
  {
   "cell_type": "code",
   "execution_count": null,
   "id": "2974722f",
   "metadata": {},
   "outputs": [],
   "source": []
  }
 ],
 "metadata": {
  "kernelspec": {
   "display_name": "ogbench",
   "language": "python",
   "name": "python3"
  },
  "language_info": {
   "codemirror_mode": {
    "name": "ipython",
    "version": 3
   },
   "file_extension": ".py",
   "mimetype": "text/x-python",
   "name": "python",
   "nbconvert_exporter": "python",
   "pygments_lexer": "ipython3",
   "version": "3.10.16"
  }
 },
 "nbformat": 4,
 "nbformat_minor": 5
}
