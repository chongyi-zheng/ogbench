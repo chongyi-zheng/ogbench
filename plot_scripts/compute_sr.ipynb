{
 "cells": [
  {
   "cell_type": "code",
   "execution_count": 34,
   "id": "821de41a",
   "metadata": {},
   "outputs": [],
   "source": [
    "import glob\n",
    "import os\n",
    "from pathlib import Path\n",
    "from collections import defaultdict\n",
    "\n",
    "import numpy as np\n",
    "import pandas as pd"
   ]
  },
  {
   "cell_type": "code",
   "execution_count": null,
   "id": "96822141",
   "metadata": {},
   "outputs": [],
   "source": [
    "def find_csv_files(log_dir, algos, filename) -> list[Path]:\n",
    "    # Matches …/<SEED>/debug/**/finetuning_eval.csv  (depth under debug doesn't matter)\n",
    "    \n",
    "    csv_files = dict()\n",
    "    for algo, env_name, exp_log_dir in algos:\n",
    "        pattern = os.path.join(log_dir, algo, exp_log_dir, \"*\", \"debug\", \"**\", filename)\n",
    "        files = [p for p in glob.glob(pattern, recursive=True)]\n",
    "        if env_name not in csv_files:\n",
    "            csv_files[env_name] = {algo: files}\n",
    "        else:\n",
    "            csv_files[env_name][algo] = files \n",
    "    return csv_files\n",
    "\n",
    "\n",
    "log_dir = \"/n/fs/prl-chongyiz/exp_logs/fdrl_logs\"\n",
    "algos = [\n",
    "    # antsoccer-arena-navigate-singletask\n",
    "    # (\"fdrl\", \"antsoccer-arena-navigate-singletask-task1-v0\", \"20250718_fdrl_antsoccer-arena-navigate-singletask-task1-v0_discount=0.995_alpha_critic=3_alpha_actor=10_critic_loss_type=q-learning_value_layer_norm=False_actor_layer_norm=True_single_noises\"),\n",
    "    # (\"fdrl\", \"antsoccer-arena-navigate-singletask-task2-v0\", \"20250718_fdrl_antsoccer-arena-navigate-singletask-task2-v0_discount=0.995_alpha_critic=3_alpha_actor=10_critic_loss_type=q-learning_value_layer_norm=False_actor_layer_norm=True_single_noises\"),\n",
    "    # (\"fdrl\", \"antsoccer-arena-navigate-singletask-task3-v0\", \"20250718_fdrl_antsoccer-arena-navigate-singletask-task3-v0_discount=0.995_alpha_critic=3_alpha_actor=10_critic_loss_type=q-learning_value_layer_norm=False_actor_layer_norm=True_single_noises\"),\n",
    "    # (\"fdrl\", \"antsoccer-arena-navigate-singletask-task4-v0\", \"20250718_fdrl_antsoccer-arena-navigate-singletask-task4-v0_discount=0.995_alpha_critic=3_alpha_actor=10_critic_loss_type=q-learning_value_layer_norm=False_actor_layer_norm=True_single_noises\"),\n",
    "    # (\"fdrl\", \"antsoccer-arena-navigate-singletask-task5-v0\", \"20250718_fdrl_antsoccer-arena-navigate-singletask-task5-v0_discount=0.995_alpha_critic=3_alpha_actor=10_critic_loss_type=q-learning_value_layer_norm=False_actor_layer_norm=True_single_noises\"),\n",
    "    (\"fdrl\", \"antsoccer-arena-navigate-singletask-task1-v0\", \"20250721_fdrl_antsoccer-arena-navigate-singletask-task1-v0_discount=0.995_alpha_critic=0.3_alpha_actor=10_critic_loss_type=q-learning_value_layer_norm=True_actor_layer_norm=True_single_noises\"),\n",
    "    (\"fdrl\", \"antsoccer-arena-navigate-singletask-task2-v0\", \"20250721_fdrl_antsoccer-arena-navigate-singletask-task2-v0_discount=0.995_alpha_critic=0.3_alpha_actor=10_critic_loss_type=q-learning_value_layer_norm=True_actor_layer_norm=True_single_noises\"),\n",
    "    (\"fdrl\", \"antsoccer-arena-navigate-singletask-task3-v0\", \"20250721_fdrl_antsoccer-arena-navigate-singletask-task3-v0_discount=0.995_alpha_critic=0.3_alpha_actor=10_critic_loss_type=q-learning_value_layer_norm=True_actor_layer_norm=True_single_noises\"),\n",
    "    (\"fdrl\", \"antsoccer-arena-navigate-singletask-task4-v0\", \"20250721_fdrl_antsoccer-arena-navigate-singletask-task4-v0_discount=0.995_alpha_critic=0.3_alpha_actor=10_critic_loss_type=q-learning_value_layer_norm=True_actor_layer_norm=True_single_noises\"),\n",
    "    (\"fdrl\", \"antsoccer-arena-navigate-singletask-task5-v0\", \"20250721_fdrl_antsoccer-arena-navigate-singletask-task5-v0_discount=0.995_alpha_critic=0.3_alpha_actor=10_critic_loss_type=q-learning_value_layer_norm=True_actor_layer_norm=True_single_noises\"),\n",
    "    \n",
    "    # humanoidmaze-medium-navigate-singletask\n",
    "    (\"fdrl\", \"humanoidmaze-medium-navigate-singletask-task1-v0\", \"20250718_fdrl_humanoidmaze-medium-navigate-singletask-task1-v0_discount=0.995_alpha_critic=1_alpha_actor=30_critic_loss_type=q-learning_value_layer_norm=True_actor_layer_norm=True_single_noises\"),\n",
    "    (\"fdrl\", \"humanoidmaze-medium-navigate-singletask-task2-v0\", \"20250718_fdrl_humanoidmaze-medium-navigate-singletask-task2-v0_discount=0.995_alpha_critic=1_alpha_actor=30_critic_loss_type=q-learning_value_layer_norm=True_actor_layer_norm=True_single_noises\"),\n",
    "    (\"fdrl\", \"humanoidmaze-medium-navigate-singletask-task3-v0\", \"20250718_fdrl_humanoidmaze-medium-navigate-singletask-task3-v0_discount=0.995_alpha_critic=1_alpha_actor=30_critic_loss_type=q-learning_value_layer_norm=True_actor_layer_norm=True_single_noises\"),\n",
    "    (\"fdrl\", \"humanoidmaze-medium-navigate-singletask-task4-v0\", \"20250718_fdrl_humanoidmaze-medium-navigate-singletask-task4-v0_discount=0.995_alpha_critic=1_alpha_actor=30_critic_loss_type=q-learning_value_layer_norm=True_actor_layer_norm=True_single_noises\"),\n",
    "    (\"fdrl\", \"humanoidmaze-medium-navigate-singletask-task5-v0\", \"20250718_fdrl_humanoidmaze-medium-navigate-singletask-task5-v0_discount=0.995_alpha_critic=1_alpha_actor=30_critic_loss_type=q-learning_value_layer_norm=True_actor_layer_norm=True_single_noises\"),\n",
    "    \n",
    "    # cube-double-play-singletask\n",
    "    (\"fdrl\", \"cube-double-play-singletask-task1-v0\", \"20250721_fdrl_cube-double-play-singletask-task1-v0_discount=0.995_alpha_critic=1_alpha_actor=300_critic_loss_type=q-learning_value_layer_norm=False_actor_layer_norm=True_single_noises\"),\n",
    "    (\"fdrl\", \"cube-double-play-singletask-task2-v0\", \"20250721_fdrl_cube-double-play-singletask-task2-v0_discount=0.995_alpha_critic=1_alpha_actor=300_critic_loss_type=q-learning_value_layer_norm=False_actor_layer_norm=True_single_noises\"),\n",
    "    (\"fdrl\", \"cube-double-play-singletask-task3-v0\", \"20250721_fdrl_cube-double-play-singletask-task3-v0_discount=0.995_alpha_critic=1_alpha_actor=300_critic_loss_type=q-learning_value_layer_norm=False_actor_layer_norm=True_single_noises\"),\n",
    "    (\"fdrl\", \"cube-double-play-singletask-task4-v0\", \"20250721_fdrl_cube-double-play-singletask-task4-v0_discount=0.995_alpha_critic=1_alpha_actor=300_critic_loss_type=q-learning_value_layer_norm=False_actor_layer_norm=True_single_noises\"),\n",
    "    (\"fdrl\", \"cube-double-play-singletask-task5-v0\", \"20250721_fdrl_cube-double-play-singletask-task5-v0_discount=0.995_alpha_critic=1_alpha_actor=300_critic_loss_type=q-learning_value_layer_norm=False_actor_layer_norm=True_single_noises\"),\n",
    "\n",
    "    # puzzle-3x3-play-singletask\n",
    "    (\"fdrl\", \"puzzle-3x3-play-singletask-task1-v0\", \"20250721_fdrl_puzzle-3x3-play-singletask-task1-v0_discount=0.99_alpha_critic=2_alpha_actor=300_critic_loss_type=q-learning_value_layer_norm=True_actor_layer_norm=True_single_noises\"),\n",
    "    (\"fdrl\", \"puzzle-3x3-play-singletask-task2-v0\", \"20250721_fdrl_puzzle-3x3-play-singletask-task2-v0_discount=0.99_alpha_critic=2_alpha_actor=300_critic_loss_type=q-learning_value_layer_norm=True_actor_layer_norm=True_single_noises\"),\n",
    "    (\"fdrl\", \"puzzle-3x3-play-singletask-task3-v0\", \"20250722_fdrl_puzzle-3x3-play-singletask-task3-v0_discount=0.99_alpha_critic=2_alpha_actor=300_critic_loss_type=q-learning_value_layer_norm=True_actor_layer_norm=True_single_noises\"),\n",
    "    (\"fdrl\", \"puzzle-3x3-play-singletask-task4-v0\", \"20250722_fdrl_puzzle-3x3-play-singletask-task4-v0_discount=0.99_alpha_critic=2_alpha_actor=300_critic_loss_type=q-learning_value_layer_norm=True_actor_layer_norm=True_single_noises\"),\n",
    "    (\"fdrl\", \"puzzle-3x3-play-singletask-task5-v0\", \"20250722_fdrl_puzzle-3x3-play-singletask-task5-v0_discount=0.99_alpha_critic=2_alpha_actor=300_critic_loss_type=q-learning_value_layer_norm=True_actor_layer_norm=True_single_noises\"),\n",
    "\n",
    "    # scene-play-singletask\n",
    "    (\"fdrl\", \"scene-play-singletask-task1-v0\", \"20250722_fdrl_scene-play-singletask-task1-v0_discount=0.99_alpha_critic=1_alpha_actor=300_critic_loss_type=q-learning_value_layer_norm=True_actor_layer_norm=True_single_noises\"),\n",
    "    (\"fdrl\", \"scene-play-singletask-task2-v0\", \"20250722_fdrl_scene-play-singletask-task2-v0_discount=0.99_alpha_critic=1_alpha_actor=300_critic_loss_type=q-learning_value_layer_norm=True_actor_layer_norm=True_single_noises\"),\n",
    "    (\"fdrl\", \"scene-play-singletask-task3-v0\", \"20250722_fdrl_scene-play-singletask-task3-v0_discount=0.99_alpha_critic=1_alpha_actor=300_critic_loss_type=q-learning_value_layer_norm=True_actor_layer_norm=True_single_noises\"),\n",
    "    (\"fdrl\", \"scene-play-singletask-task4-v0\", \"20250722_fdrl_scene-play-singletask-task4-v0_discount=0.99_alpha_critic=1_alpha_actor=300_critic_loss_type=q-learning_value_layer_norm=True_actor_layer_norm=True_single_noises\"),\n",
    "    (\"fdrl\", \"scene-play-singletask-task5-v0\", \"20250722_fdrl_scene-play-singletask-task5-v0_discount=0.99_alpha_critic=1_alpha_actor=300_critic_loss_type=q-learning_value_layer_norm=True_actor_layer_norm=True_single_noises\"),\n",
    "]\n",
    "\n",
    "# env_name_maps = {\n",
    "#     'cheetah_run': 'cheetah run',\n",
    "#     'quadruped_jump': 'quadruped jump',\n",
    "#     'walker_walk': 'walker walk',\n",
    "#     'walker_flip': 'walker flip',\n",
    "#     'cube-double-play-singletask-task1-v0': 'cube double task 1',\n",
    "#     'scene-play-singletask-task1-v0': 'scene task 1',\n",
    "# }\n",
    "# algo_name_maps = {\n",
    "#     'sarsa_ifql_vib_gpi_offline2offline': 'InFOM (Ours)',\n",
    "#     'fb_repr_fom_offline2offline': 'FB + FOM',\n",
    "#     'hilp_fom_offline2offline': 'HILP + FOM',\n",
    "# }\n",
    "\n",
    "\n",
    "csv_files = find_csv_files(log_dir, algos, filename=\"eval.csv\")"
   ]
  },
  {
   "cell_type": "code",
   "execution_count": 36,
   "id": "eec64c48",
   "metadata": {},
   "outputs": [],
   "source": [
    "def load_data(csv_path, stat_name, step_name) -> np.ndarray:\n",
    "    df = pd.read_csv(csv_path)\n",
    "    if stat_name not in df.columns:\n",
    "        raise KeyError(f\"{csv_path} doesn't contain {stat_name}\")\n",
    "    x = df[step_name].values\n",
    "    y = df[stat_name].values\n",
    "    return dict(x=x, y=y)\n",
    "\n",
    "algo_data = defaultdict(dict)\n",
    "for env_name, env_csv_files in csv_files.items():\n",
    "    for algo, csv_files in env_csv_files.items():\n",
    "        seed_data = []\n",
    "        for csv_file in csv_files:\n",
    "            data = load_data(csv_file, \"evaluation/success\", \"step\")\n",
    "            if len(seed_data) == 0:\n",
    "                seed_data.append(data[\"x\"])\n",
    "            else:\n",
    "                assert np.all(data[\"x\"] == seed_data[0])\n",
    "            seed_data.append(data[\"y\"])\n",
    "\n",
    "        seed_data = np.asarray(seed_data)\n",
    "        # steps = seed_data[0]\n",
    "        # data = seed_data[1:]\n",
    "        \n",
    "        algo_data[env_name][algo] = seed_data\n",
    "        if len(seed_data) == 1:\n",
    "            print(\"Warning: only one random seed!\")"
   ]
  },
  {
   "cell_type": "code",
   "execution_count": 37,
   "id": "98fdd511",
   "metadata": {},
   "outputs": [
    {
     "name": "stdout",
     "output_type": "stream",
     "text": [
      "(11,)\n",
      "(2, 11)\n"
     ]
    }
   ],
   "source": [
    "print(algo_data['cube-double-play-singletask-task1-v0']['fdrl'][0].shape)\n",
    "print(algo_data['cube-double-play-singletask-task1-v0']['fdrl'][1:].shape)"
   ]
  },
  {
   "cell_type": "code",
   "execution_count": 38,
   "id": "806c868f",
   "metadata": {},
   "outputs": [
    {
     "name": "stdout",
     "output_type": "stream",
     "text": [
      "env = antsoccer-arena-navigate-singletask-task1-v0, fdrl: mean = 0.8633, std = 0.0330\n",
      "env = antsoccer-arena-navigate-singletask-task2-v0, fdrl: mean = 0.8733, std = 0.0189\n",
      "env = antsoccer-arena-navigate-singletask-task3-v0, fdrl: mean = 0.5233, std = 0.0141\n",
      "env = antsoccer-arena-navigate-singletask-task4-v0, fdrl: mean = 0.3767, std = 0.0990\n",
      "env = antsoccer-arena-navigate-singletask-task5-v0, fdrl: mean = 0.2167, std = 0.1179\n",
      "env = humanoidmaze-medium-navigate-singletask-task1-v0, fdrl: mean = 0.1956, std = 0.0559\n",
      "env = humanoidmaze-medium-navigate-singletask-task2-v0, fdrl: mean = 0.4778, std = 0.2247\n",
      "env = humanoidmaze-medium-navigate-singletask-task3-v0, fdrl: mean = 0.5889, std = 0.1118\n",
      "env = humanoidmaze-medium-navigate-singletask-task4-v0, fdrl: mean = 0.0022, std = 0.0038\n",
      "env = humanoidmaze-medium-navigate-singletask-task5-v0, fdrl: mean = 0.4067, std = 0.1867\n",
      "env = cube-double-play-singletask-task1-v0, fdrl: mean = 0.8633, std = 0.0424\n",
      "env = cube-double-play-singletask-task2-v0, fdrl: mean = 0.6200, std = 0.0377\n",
      "env = cube-double-play-singletask-task3-v0, fdrl: mean = 0.4867, std = 0.1697\n",
      "env = cube-double-play-singletask-task4-v0, fdrl: mean = 0.1300, std = 0.0707\n",
      "env = cube-double-play-singletask-task5-v0, fdrl: mean = 0.6833, std = 0.0613\n",
      "env = puzzle-3x3-play-singletask-task1-v0, fdrl: mean = 0.9844, std = 0.0139\n",
      "env = puzzle-3x3-play-singletask-task2-v0, fdrl: mean = 0.9333, std = 0.0200\n",
      "env = puzzle-3x3-play-singletask-task3-v0, fdrl: mean = 0.8400, std = 0.0200\n",
      "env = puzzle-3x3-play-singletask-task4-v0, fdrl: mean = 0.8889, std = 0.0543\n",
      "env = puzzle-3x3-play-singletask-task5-v0, fdrl: mean = 0.9333, std = 0.0346\n",
      "env = scene-play-singletask-task1-v0, fdrl: mean = 0.9867, std = 0.0133\n",
      "env = scene-play-singletask-task2-v0, fdrl: mean = 0.8811, std = 0.0425\n",
      "env = scene-play-singletask-task3-v0, fdrl: mean = 0.9200, std = 0.0503\n",
      "env = scene-play-singletask-task4-v0, fdrl: mean = 0.0067, std = 0.0115\n",
      "env = scene-play-singletask-task5-v0, fdrl: mean = 0.0067, std = 0.0067\n"
     ]
    }
   ],
   "source": [
    "for env_name, env_data in algo_data.items():\n",
    "    for algo, data in env_data.items():\n",
    "        y = data[1:, -3:].mean(axis=-1)\n",
    "        y_mean = np.mean(y, axis=0)\n",
    "        y_std = np.std(y, axis=0, ddof=1)\n",
    "        \n",
    "        print(f\"env = {env_name}, {algo}: mean = {y_mean:.4f}, std = {y_std:.4f}\")"
   ]
  },
  {
   "cell_type": "code",
   "execution_count": null,
   "id": "0a340092",
   "metadata": {},
   "outputs": [],
   "source": []
  },
  {
   "cell_type": "code",
   "execution_count": null,
   "id": "f0608523",
   "metadata": {},
   "outputs": [],
   "source": []
  }
 ],
 "metadata": {
  "kernelspec": {
   "display_name": "ogbench",
   "language": "python",
   "name": "python3"
  },
  "language_info": {
   "codemirror_mode": {
    "name": "ipython",
    "version": 3
   },
   "file_extension": ".py",
   "mimetype": "text/x-python",
   "name": "python",
   "nbconvert_exporter": "python",
   "pygments_lexer": "ipython3",
   "version": "3.10.16"
  }
 },
 "nbformat": 4,
 "nbformat_minor": 5
}
