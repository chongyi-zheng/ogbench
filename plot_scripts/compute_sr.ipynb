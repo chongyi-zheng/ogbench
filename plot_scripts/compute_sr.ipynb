{
 "cells": [
  {
   "cell_type": "code",
   "execution_count": null,
   "id": "821de41a",
   "metadata": {},
   "outputs": [],
   "source": [
    "import glob\n",
    "import os\n",
    "from pathlib import Path\n",
    "from collections import defaultdict\n",
    "\n",
    "import numpy as np\n",
    "import pandas as pd"
   ]
  },
  {
   "cell_type": "code",
   "execution_count": null,
   "id": "96822141",
   "metadata": {},
   "outputs": [],
   "source": [
    "def find_csv_files(log_dir, algos, filename) -> list[Path]:\n",
    "    # Matches …/<SEED>/debug/**/finetuning_eval.csv  (depth under debug doesn't matter)\n",
    "    \n",
    "    csv_files = dict()\n",
    "    for algo, env_name, exp_log_dir in algos:\n",
    "        pattern = os.path.join(log_dir, algo, exp_log_dir, \"*\", \"debug\", \"**\", filename)\n",
    "        files = [p for p in glob.glob(pattern, recursive=True)]\n",
    "        if env_name not in csv_files:\n",
    "            csv_files[env_name] = {algo: files}\n",
    "        else:\n",
    "            csv_files[env_name][algo] = files \n",
    "    return csv_files\n",
    "\n",
    "log_dir = \"/n/fs/rl-chongyiz/exp_logs/fdrl_logs\"\n",
    "# log_dir = \"/n/fs/prl-chongyiz/exp_logs/fdrl_logs\"\n",
    "algos = [\n",
    "    # antmaze-large-navigate-singletask\n",
    "    # (\"fdrl\", \"antmaze-large-navigate-singletask-task1-v0\", \"20250718_fdrl_antmaze-large-navigate-singletask-task1-v0_discount=0.99_alpha_critic=1_alpha_actor=10_critic_loss_type=q-learning_value_layer_norm=True_actor_layer_norm=True_single_noises\"),\n",
    "    # (\"fdrl\", \"antmaze-large-navigate-singletask-task2-v0\", \"20250718_fdrl_antmaze-large-navigate-singletask-task2-v0_discount=0.99_alpha_critic=1_alpha_actor=10_critic_loss_type=q-learning_value_layer_norm=True_actor_layer_norm=True_single_noises\"),\n",
    "    # (\"fdrl\", \"antmaze-large-navigate-singletask-task3-v0\", \"20250718_fdrl_antmaze-large-navigate-singletask-task3-v0_discount=0.99_alpha_critic=1_alpha_actor=10_critic_loss_type=q-learning_value_layer_norm=True_actor_layer_norm=True_single_noises\"),\n",
    "    # (\"fdrl\", \"antmaze-large-navigate-singletask-task4-v0\", \"20250718_fdrl_antmaze-large-navigate-singletask-task4-v0_discount=0.99_alpha_critic=1_alpha_actor=10_critic_loss_type=q-learning_value_layer_norm=True_actor_layer_norm=True_single_noises\"),\n",
    "    # (\"fdrl\", \"antmaze-large-navigate-singletask-task5-v0\", \"20250718_fdrl_antmaze-large-navigate-singletask-task5-v0_discount=0.99_alpha_critic=1_alpha_actor=10_critic_loss_type=q-learning_value_layer_norm=True_actor_layer_norm=True_single_noises\"),\n",
    "    \n",
    "    (\"fdrl\", \"antmaze-large-navigate-singletask-task1-v0\", \"20250723_fdrl_antmaze-large-navigate-singletask-task1-v0_discount=0.995_alpha_critic=0.3_alpha_actor=10_critic_loss_type=q-learning_value_layer_norm=True_actor_layer_norm=True_ret_agg=min_q_agg=mean_single_noises\"),\n",
    "    (\"fdrl\", \"antmaze-large-navigate-singletask-task2-v0\", \"20250723_fdrl_antmaze-large-navigate-singletask-task2-v0_discount=0.995_alpha_critic=0.3_alpha_actor=10_critic_loss_type=q-learning_value_layer_norm=True_actor_layer_norm=True_ret_agg=min_q_agg=mean_single_noises\"),\n",
    "    (\"fdrl\", \"antmaze-large-navigate-singletask-task3-v0\", \"20250723_fdrl_antmaze-large-navigate-singletask-task3-v0_discount=0.995_alpha_critic=0.3_alpha_actor=10_critic_loss_type=q-learning_value_layer_norm=True_actor_layer_norm=True_ret_agg=min_q_agg=mean_single_noises\"),\n",
    "    (\"fdrl\", \"antmaze-large-navigate-singletask-task4-v0\", \"20250723_fdrl_antmaze-large-navigate-singletask-task4-v0_discount=0.995_alpha_critic=0.3_alpha_actor=10_critic_loss_type=q-learning_value_layer_norm=True_actor_layer_norm=True_ret_agg=min_q_agg=mean_single_noises\"),\n",
    "    (\"fdrl\", \"antmaze-large-navigate-singletask-task5-v0\", \"20250723_fdrl_antmaze-large-navigate-singletask-task5-v0_discount=0.995_alpha_critic=0.3_alpha_actor=10_critic_loss_type=q-learning_value_layer_norm=True_actor_layer_norm=True_ret_agg=min_q_agg=mean_single_noises\"),\n",
    "    \n",
    "    # lambda = 0.0\n",
    "    # (\"fdrl\", \"antmaze-large-navigate-singletask-task1-v0\", \"20250724_fdrl_antmaze-large-navigate-singletask-task1-v0_discount=0.99_alpha_critic=0.0_alpha_actor=10_critic_loss_type=q-learning_value_layer_norm=True_actor_layer_norm=True_ret_agg=min_q_agg=mean_single_noises\"),\n",
    "    # (\"fdrl\", \"antmaze-large-navigate-singletask-task2-v0\", \"20250724_fdrl_antmaze-large-navigate-singletask-task2-v0_discount=0.99_alpha_critic=0.0_alpha_actor=10_critic_loss_type=q-learning_value_layer_norm=True_actor_layer_norm=True_ret_agg=min_q_agg=mean_single_noises\"),\n",
    "    # (\"fdrl\", \"antmaze-large-navigate-singletask-task3-v0\", \"20250724_fdrl_antmaze-large-navigate-singletask-task3-v0_discount=0.99_alpha_critic=0.0_alpha_actor=10_critic_loss_type=q-learning_value_layer_norm=True_actor_layer_norm=True_ret_agg=min_q_agg=mean_single_noises\"),\n",
    "    # (\"fdrl\", \"antmaze-large-navigate-singletask-task4-v0\", \"20250724_fdrl_antmaze-large-navigate-singletask-task4-v0_discount=0.99_alpha_critic=0.0_alpha_actor=10_critic_loss_type=q-learning_value_layer_norm=True_actor_layer_norm=True_ret_agg=min_q_agg=mean_single_noises\"),\n",
    "    # (\"fdrl\", \"antmaze-large-navigate-singletask-task5-v0\", \"20250724_fdrl_antmaze-large-navigate-singletask-task5-v0_discount=0.99_alpha_critic=0.0_alpha_actor=10_critic_loss_type=q-learning_value_layer_norm=True_actor_layer_norm=True_ret_agg=min_q_agg=mean_single_noises\"),\n",
    "    \n",
    "    # antsoccer-arena-navigate-singletask\n",
    "    # (\"fdrl\", \"antsoccer-arena-navigate-singletask-task1-v0\", \"20250721_fdrl_antsoccer-arena-navigate-singletask-task1-v0_discount=0.995_alpha_critic=0.3_alpha_actor=10_critic_loss_type=q-learning_value_layer_norm=True_actor_layer_norm=True_single_noises\"),\n",
    "    # (\"fdrl\", \"antsoccer-arena-navigate-singletask-task2-v0\", \"20250721_fdrl_antsoccer-arena-navigate-singletask-task2-v0_discount=0.995_alpha_critic=0.3_alpha_actor=10_critic_loss_type=q-learning_value_layer_norm=True_actor_layer_norm=True_single_noises\"),\n",
    "    # (\"fdrl\", \"antsoccer-arena-navigate-singletask-task3-v0\", \"20250721_fdrl_antsoccer-arena-navigate-singletask-task3-v0_discount=0.995_alpha_critic=0.3_alpha_actor=10_critic_loss_type=q-learning_value_layer_norm=True_actor_layer_norm=True_single_noises\"),\n",
    "    # (\"fdrl\", \"antsoccer-arena-navigate-singletask-task4-v0\", \"20250721_fdrl_antsoccer-arena-navigate-singletask-task4-v0_discount=0.995_alpha_critic=0.3_alpha_actor=10_critic_loss_type=q-learning_value_layer_norm=True_actor_layer_norm=True_single_noises\"),\n",
    "    # (\"fdrl\", \"antsoccer-arena-navigate-singletask-task5-v0\", \"20250721_fdrl_antsoccer-arena-navigate-singletask-task5-v0_discount=0.995_alpha_critic=0.3_alpha_actor=10_critic_loss_type=q-learning_value_layer_norm=True_actor_layer_norm=True_single_noises\"),\n",
    "    \n",
    "    # humanoidmaze-medium-navigate-singletask\n",
    "    (\"fdrl\", \"humanoidmaze-medium-navigate-singletask-task1-v0\", \"20250718_fdrl_humanoidmaze-medium-navigate-singletask-task1-v0_discount=0.995_alpha_critic=1_alpha_actor=30_critic_loss_type=q-learning_value_layer_norm=True_actor_layer_norm=True_single_noises\"),\n",
    "    (\"fdrl\", \"humanoidmaze-medium-navigate-singletask-task2-v0\", \"20250718_fdrl_humanoidmaze-medium-navigate-singletask-task2-v0_discount=0.995_alpha_critic=1_alpha_actor=30_critic_loss_type=q-learning_value_layer_norm=True_actor_layer_norm=True_single_noises\"),\n",
    "    (\"fdrl\", \"humanoidmaze-medium-navigate-singletask-task3-v0\", \"20250718_fdrl_humanoidmaze-medium-navigate-singletask-task3-v0_discount=0.995_alpha_critic=1_alpha_actor=30_critic_loss_type=q-learning_value_layer_norm=True_actor_layer_norm=True_single_noises\"),\n",
    "    (\"fdrl\", \"humanoidmaze-medium-navigate-singletask-task4-v0\", \"20250718_fdrl_humanoidmaze-medium-navigate-singletask-task4-v0_discount=0.995_alpha_critic=1_alpha_actor=30_critic_loss_type=q-learning_value_layer_norm=True_actor_layer_norm=True_single_noises\"),\n",
    "    (\"fdrl\", \"humanoidmaze-medium-navigate-singletask-task5-v0\", \"20250718_fdrl_humanoidmaze-medium-navigate-singletask-task5-v0_discount=0.995_alpha_critic=1_alpha_actor=30_critic_loss_type=q-learning_value_layer_norm=True_actor_layer_norm=True_single_noises\"),\n",
    "    # (\"fdrl\", \"humanoidmaze-medium-navigate-singletask-task3-v0\", \"20250731_fdrl_humanoidmaze-medium-navigate-singletask-task3-v0_discount=0.995_alpha_critic=0_alpha_actor=30_critic_loss_type=q-learning_value_layer_norm=True_actor_layer_norm=True_ret_agg=min_q_agg=mean_single_noises\"),\n",
    "    # (\"fdrl\", \"humanoidmaze-medium-navigate-singletask-task4-v0\", \"20250731_fdrl_humanoidmaze-medium-navigate-singletask-task4-v0_discount=0.995_alpha_critic=0_alpha_actor=30_critic_loss_type=q-learning_value_layer_norm=True_actor_layer_norm=True_ret_agg=min_q_agg=mean_single_noises\"),\n",
    "    \n",
    "    # (\"fdrl\", \"humanoidmaze-medium-navigate-singletask-task1-v0\", \"20250731_fdrl_humanoidmaze-medium-navigate-singletask-task1-v0_discount=0.995_alpha_critic=1_alpha_actor=30_critic_loss_type=q-learning_value_layer_norm=True_actor_layer_norm=True_ret_agg=mean_q_agg=mean_single_noises\"),\n",
    "    # (\"fdrl\", \"humanoidmaze-medium-navigate-singletask-task2-v0\", \"20250731_fdrl_humanoidmaze-medium-navigate-singletask-task2-v0_discount=0.995_alpha_critic=1_alpha_actor=30_critic_loss_type=q-learning_value_layer_norm=True_actor_layer_norm=True_ret_agg=mean_q_agg=mean_single_noises\"),\n",
    "    # (\"fdrl\", \"humanoidmaze-medium-navigate-singletask-task3-v0\", \"20250731_fdrl_humanoidmaze-medium-navigate-singletask-task3-v0_discount=0.995_alpha_critic=1_alpha_actor=30_critic_loss_type=q-learning_value_layer_norm=True_actor_layer_norm=True_ret_agg=mean_q_agg=mean_single_noises\"),\n",
    "    # (\"fdrl\", \"humanoidmaze-medium-navigate-singletask-task4-v0\", \"20250731_fdrl_humanoidmaze-medium-navigate-singletask-task4-v0_discount=0.995_alpha_critic=1_alpha_actor=30_critic_loss_type=q-learning_value_layer_norm=True_actor_layer_norm=True_ret_agg=mean_q_agg=mean_single_noises\"),\n",
    "    # (\"fdrl\", \"humanoidmaze-medium-navigate-singletask-task5-v0\", \"20250731_fdrl_humanoidmaze-medium-navigate-singletask-task-v0_discount=0.995_alpha_critic=1_alpha_actor=30_critic_loss_type=q-learning_value_layer_norm=True_actor_layer_norm=True_ret_agg=mean_q_agg=mean_single_noises\"),\n",
    "    \n",
    "    # # cube-double-play-singletask\n",
    "    # (\"fdrl\", \"cube-double-play-singletask-task1-v0\", \"20250721_fdrl_cube-double-play-singletask-task1-v0_discount=0.995_alpha_critic=1_alpha_actor=300_critic_loss_type=q-learning_value_layer_norm=False_actor_layer_norm=True_single_noises\"),\n",
    "    # (\"fdrl\", \"cube-double-play-singletask-task2-v0\", \"20250721_fdrl_cube-double-play-singletask-task2-v0_discount=0.995_alpha_critic=1_alpha_actor=300_critic_loss_type=q-learning_value_layer_norm=False_actor_layer_norm=True_single_noises\"),\n",
    "    # (\"fdrl\", \"cube-double-play-singletask-task3-v0\", \"20250721_fdrl_cube-double-play-singletask-task3-v0_discount=0.995_alpha_critic=1_alpha_actor=300_critic_loss_type=q-learning_value_layer_norm=False_actor_layer_norm=True_single_noises\"),\n",
    "    # (\"fdrl\", \"cube-double-play-singletask-task4-v0\", \"20250721_fdrl_cube-double-play-singletask-task4-v0_discount=0.995_alpha_critic=1_alpha_actor=300_critic_loss_type=q-learning_value_layer_norm=False_actor_layer_norm=True_single_noises\"),\n",
    "    # (\"fdrl\", \"cube-double-play-singletask-task5-v0\", \"20250721_fdrl_cube-double-play-singletask-task5-v0_discount=0.995_alpha_critic=1_alpha_actor=300_critic_loss_type=q-learning_value_layer_norm=False_actor_layer_norm=True_single_noises\"),\n",
    "\n",
    "    # # puzzle-3x3-play-singletask\n",
    "    # (\"fdrl\", \"puzzle-3x3-play-singletask-task1-v0\", \"20250721_fdrl_puzzle-3x3-play-singletask-task1-v0_discount=0.99_alpha_critic=2_alpha_actor=300_critic_loss_type=q-learning_value_layer_norm=True_actor_layer_norm=True_single_noises\"),\n",
    "    # (\"fdrl\", \"puzzle-3x3-play-singletask-task2-v0\", \"20250721_fdrl_puzzle-3x3-play-singletask-task2-v0_discount=0.99_alpha_critic=2_alpha_actor=300_critic_loss_type=q-learning_value_layer_norm=True_actor_layer_norm=True_single_noises\"),\n",
    "    # (\"fdrl\", \"puzzle-3x3-play-singletask-task3-v0\", \"20250722_fdrl_puzzle-3x3-play-singletask-task3-v0_discount=0.99_alpha_critic=2_alpha_actor=300_critic_loss_type=q-learning_value_layer_norm=True_actor_layer_norm=True_single_noises\"),\n",
    "    # (\"fdrl\", \"puzzle-3x3-play-singletask-task4-v0\", \"20250722_fdrl_puzzle-3x3-play-singletask-task4-v0_discount=0.99_alpha_critic=2_alpha_actor=300_critic_loss_type=q-learning_value_layer_norm=True_actor_layer_norm=True_single_noises\"),\n",
    "    # (\"fdrl\", \"puzzle-3x3-play-singletask-task5-v0\", \"20250722_fdrl_puzzle-3x3-play-singletask-task5-v0_discount=0.99_alpha_critic=2_alpha_actor=300_critic_loss_type=q-learning_value_layer_norm=True_actor_layer_norm=True_single_noises\"),\n",
    "\n",
    "    # puzzle-4x4-play-singletask\n",
    "    (\"fdrl\", \"puzzle-4x4-play-singletask-task1-v0\", \"20250803_fdrl_puzzle-4x4-play-singletask-task1-v0_discount=0.99_alpha_critic=0.03_alpha_actor=300_critic_loss_type=q-learning_next_a_extrac=sfbc_pi_extrac=sfbc_ensem_w_temp=100.0_value_ln=True_actor_ln=True_ret_agg=mean_q_agg=mean\"),\n",
    "    (\"fdrl\", \"puzzle-4x4-play-singletask-task2-v0\", \"20250803_fdrl_puzzle-4x4-play-singletask-task2-v0_discount=0.99_alpha_critic=0.03_alpha_actor=300_critic_loss_type=q-learning_next_a_extrac=sfbc_pi_extrac=sfbc_ensem_w_temp=100.0_value_ln=True_actor_ln=True_ret_agg=mean_q_agg=mean\"),\n",
    "    (\"fdrl\", \"puzzle-4x4-play-singletask-task3-v0\", \"20250803_fdrl_puzzle-4x4-play-singletask-task3-v0_discount=0.99_alpha_critic=0.03_alpha_actor=300_critic_loss_type=q-learning_next_a_extrac=sfbc_pi_extrac=sfbc_ensem_w_temp=100.0_value_ln=True_actor_ln=True_ret_agg=mean_q_agg=mean\"),\n",
    "    (\"fdrl\", \"puzzle-4x4-play-singletask-task4-v0\", \"20250803_fdrl_puzzle-4x4-play-singletask-task4-v0_discount=0.99_alpha_critic=0.03_alpha_actor=300_critic_loss_type=q-learning_next_a_extrac=sfbc_pi_extrac=sfbc_ensem_w_temp=100.0_value_ln=True_actor_ln=True_ret_agg=mean_q_agg=mean\"),\n",
    "    (\"fdrl\", \"puzzle-4x4-play-singletask-task5-v0\", \"20250803_fdrl_puzzle-4x4-play-singletask-task5-v0_discount=0.99_alpha_critic=0.03_alpha_actor=300_critic_loss_type=q-learning_next_a_extrac=sfbc_pi_extrac=sfbc_ensem_w_temp=100.0_value_ln=True_actor_ln=True_ret_agg=mean_q_agg=mean\"),\n",
    "\n",
    "    # scene-play-singletask\n",
    "    (\"fdrl\", \"scene-play-singletask-task1-v0\", \"20250722_fdrl_scene-play-singletask-task1-v0_discount=0.99_alpha_critic=1_alpha_actor=300_critic_loss_type=q-learning_value_layer_norm=True_actor_layer_norm=True_single_noises\"),\n",
    "    (\"fdrl\", \"scene-play-singletask-task2-v0\", \"20250722_fdrl_scene-play-singletask-task2-v0_discount=0.99_alpha_critic=1_alpha_actor=300_critic_loss_type=q-learning_value_layer_norm=True_actor_layer_norm=True_single_noises\"),\n",
    "    (\"fdrl\", \"scene-play-singletask-task3-v0\", \"20250722_fdrl_scene-play-singletask-task3-v0_discount=0.99_alpha_critic=1_alpha_actor=300_critic_loss_type=q-learning_value_layer_norm=True_actor_layer_norm=True_single_noises\"),\n",
    "    (\"fdrl\", \"scene-play-singletask-task4-v0\", \"20250722_fdrl_scene-play-singletask-task4-v0_discount=0.99_alpha_critic=1_alpha_actor=300_critic_loss_type=q-learning_value_layer_norm=True_actor_layer_norm=True_single_noises\"),\n",
    "    (\"fdrl\", \"scene-play-singletask-task5-v0\", \"20250722_fdrl_scene-play-singletask-task5-v0_discount=0.99_alpha_critic=1_alpha_actor=300_critic_loss_type=q-learning_value_layer_norm=True_actor_layer_norm=True_single_noises\"),\n",
    "]\n",
    "\n",
    "csv_files = find_csv_files(log_dir, algos, filename=\"eval.csv\")"
   ]
  },
  {
   "cell_type": "code",
   "execution_count": null,
   "id": "eec64c48",
   "metadata": {},
   "outputs": [],
   "source": [
    "def load_data(csv_path, stat_name, step_name) -> np.ndarray:\n",
    "    df = pd.read_csv(csv_path)\n",
    "    if stat_name not in df.columns:\n",
    "        raise KeyError(f\"{csv_path} doesn't contain {stat_name}\")\n",
    "    x = df[step_name].values\n",
    "    y = df[stat_name].values\n",
    "    return dict(x=x, y=y)\n",
    "\n",
    "algo_data = defaultdict(dict)\n",
    "for env_name, env_csv_files in csv_files.items():\n",
    "    for algo, csv_files in env_csv_files.items():\n",
    "        seed_data = []\n",
    "        for csv_file in csv_files:\n",
    "            data = load_data(csv_file, \"evaluation/success\", \"step\")\n",
    "            if len(seed_data) == 0:\n",
    "                seed_data.append(data[\"x\"])\n",
    "            else:\n",
    "                assert np.all(data[\"x\"] == seed_data[0])\n",
    "            seed_data.append(data[\"y\"])\n",
    "\n",
    "        seed_data = np.asarray(seed_data)\n",
    "        # steps = seed_data[0]\n",
    "        # data = seed_data[1:]\n",
    "        \n",
    "        algo_data[env_name][algo] = seed_data\n",
    "        if len(seed_data) == 1:\n",
    "            print(\"Warning: only one random seed!\")"
   ]
  },
  {
   "cell_type": "code",
   "execution_count": null,
   "id": "98fdd511",
   "metadata": {},
   "outputs": [
    {
     "ename": "KeyError",
     "evalue": "'fdrl'",
     "output_type": "error",
     "traceback": [
      "\u001b[0;31m---------------------------------------------------------------------------\u001b[0m",
      "\u001b[0;31mKeyError\u001b[0m                                  Traceback (most recent call last)",
      "Cell \u001b[0;32mIn[7], line 1\u001b[0m\n\u001b[0;32m----> 1\u001b[0m \u001b[38;5;28mprint\u001b[39m(\u001b[43malgo_data\u001b[49m\u001b[43m[\u001b[49m\u001b[38;5;124;43m'\u001b[39;49m\u001b[38;5;124;43mcube-double-play-singletask-task1-v0\u001b[39;49m\u001b[38;5;124;43m'\u001b[39;49m\u001b[43m]\u001b[49m\u001b[43m[\u001b[49m\u001b[38;5;124;43m'\u001b[39;49m\u001b[38;5;124;43mfdrl\u001b[39;49m\u001b[38;5;124;43m'\u001b[39;49m\u001b[43m]\u001b[49m[\u001b[38;5;241m0\u001b[39m]\u001b[38;5;241m.\u001b[39mshape)\n\u001b[1;32m      2\u001b[0m \u001b[38;5;28mprint\u001b[39m(algo_data[\u001b[38;5;124m'\u001b[39m\u001b[38;5;124mcube-double-play-singletask-task1-v0\u001b[39m\u001b[38;5;124m'\u001b[39m][\u001b[38;5;124m'\u001b[39m\u001b[38;5;124mfdrl\u001b[39m\u001b[38;5;124m'\u001b[39m][\u001b[38;5;241m1\u001b[39m:]\u001b[38;5;241m.\u001b[39mshape)\n",
      "\u001b[0;31mKeyError\u001b[0m: 'fdrl'"
     ]
    }
   ],
   "source": [
    "print(algo_data['cube-double-play-singletask-task1-v0']['fdrl'][0].shape)\n",
    "print(algo_data['cube-double-play-singletask-task1-v0']['fdrl'][1:].shape)"
   ]
  },
  {
   "cell_type": "code",
   "execution_count": null,
   "id": "806c868f",
   "metadata": {},
   "outputs": [
    {
     "name": "stdout",
     "output_type": "stream",
     "text": [
      "env = antmaze-large-navigate-singletask-task1-v0, fdrl: mean = 0.9356, std = 0.0315\n",
      "env = antmaze-large-navigate-singletask-task2-v0, fdrl: mean = 0.5178, std = 0.4490\n",
      "env = antmaze-large-navigate-singletask-task3-v0, fdrl: mean = 0.9156, std = 0.0269\n",
      "env = antmaze-large-navigate-singletask-task4-v0, fdrl: mean = 0.0956, std = 0.1367\n",
      "env = antmaze-large-navigate-singletask-task5-v0, fdrl: mean = 0.8911, std = 0.0204\n",
      "env = humanoidmaze-medium-navigate-singletask-task1-v0, fdrl: mean = 0.1911, std = 0.1934\n",
      "env = humanoidmaze-medium-navigate-singletask-task2-v0, fdrl: mean = 0.8000, std = 0.0353\n",
      "env = humanoidmaze-medium-navigate-singletask-task3-v0, fdrl: mean = 0.0622, std = 0.0038\n",
      "env = humanoidmaze-medium-navigate-singletask-task4-v0, fdrl: mean = 0.0044, std = 0.0038\n",
      "env = humanoidmaze-medium-navigate-singletask-task5-v0, fdrl: mean = 0.8600, std = 0.0577\n",
      "env = puzzle-4x4-play-singletask-task1-v0, fdrl: mean = 0.3867, std = 0.0406\n",
      "env = puzzle-4x4-play-singletask-task2-v0, fdrl: mean = 0.2644, std = 0.0204\n",
      "env = puzzle-4x4-play-singletask-task3-v0, fdrl: mean = 0.2556, std = 0.0619\n",
      "env = puzzle-4x4-play-singletask-task4-v0, fdrl: mean = 0.2178, std = 0.0908\n"
     ]
    },
    {
     "ename": "IndexError",
     "evalue": "too many indices for array: array is 1-dimensional, but 2 were indexed",
     "output_type": "error",
     "traceback": [
      "\u001b[0;31m---------------------------------------------------------------------------\u001b[0m",
      "\u001b[0;31mIndexError\u001b[0m                                Traceback (most recent call last)",
      "Cell \u001b[0;32mIn[9], line 3\u001b[0m\n\u001b[1;32m      1\u001b[0m \u001b[38;5;28;01mfor\u001b[39;00m env_name, env_data \u001b[38;5;129;01min\u001b[39;00m algo_data\u001b[38;5;241m.\u001b[39mitems():\n\u001b[1;32m      2\u001b[0m     \u001b[38;5;28;01mfor\u001b[39;00m algo, data \u001b[38;5;129;01min\u001b[39;00m env_data\u001b[38;5;241m.\u001b[39mitems():\n\u001b[0;32m----> 3\u001b[0m         y \u001b[38;5;241m=\u001b[39m \u001b[43mdata\u001b[49m\u001b[43m[\u001b[49m\u001b[38;5;241;43m1\u001b[39;49m\u001b[43m:\u001b[49m\u001b[43m,\u001b[49m\u001b[43m \u001b[49m\u001b[38;5;241;43m-\u001b[39;49m\u001b[38;5;241;43m3\u001b[39;49m\u001b[43m:\u001b[49m\u001b[43m]\u001b[49m\u001b[38;5;241m.\u001b[39mmean(axis\u001b[38;5;241m=\u001b[39m\u001b[38;5;241m-\u001b[39m\u001b[38;5;241m1\u001b[39m)\n\u001b[1;32m      4\u001b[0m         y_mean \u001b[38;5;241m=\u001b[39m np\u001b[38;5;241m.\u001b[39mmean(y, axis\u001b[38;5;241m=\u001b[39m\u001b[38;5;241m0\u001b[39m)\n\u001b[1;32m      5\u001b[0m         y_std \u001b[38;5;241m=\u001b[39m np\u001b[38;5;241m.\u001b[39mstd(y, axis\u001b[38;5;241m=\u001b[39m\u001b[38;5;241m0\u001b[39m, ddof\u001b[38;5;241m=\u001b[39m\u001b[38;5;241m1\u001b[39m)\n",
      "\u001b[0;31mIndexError\u001b[0m: too many indices for array: array is 1-dimensional, but 2 were indexed"
     ]
    }
   ],
   "source": [
    "for env_name, env_data in algo_data.items():\n",
    "    for algo, data in env_data.items():\n",
    "        y = data[1:, -3:].mean(axis=-1)\n",
    "        y_mean = np.mean(y, axis=0)\n",
    "        y_std = np.std(y, axis=0, ddof=1)\n",
    "        \n",
    "        print(f\"env = {env_name}, {algo}: mean = {y_mean:.4f}, std = {y_std:.4f}\")"
   ]
  },
  {
   "cell_type": "code",
   "execution_count": null,
   "id": "0a340092",
   "metadata": {},
   "outputs": [],
   "source": []
  },
  {
   "cell_type": "code",
   "execution_count": null,
   "id": "f0608523",
   "metadata": {},
   "outputs": [],
   "source": []
  }
 ],
 "metadata": {
  "kernelspec": {
   "display_name": "ogbench",
   "language": "python",
   "name": "python3"
  },
  "language_info": {
   "codemirror_mode": {
    "name": "ipython",
    "version": 3
   },
   "file_extension": ".py",
   "mimetype": "text/x-python",
   "name": "python",
   "nbconvert_exporter": "python",
   "pygments_lexer": "ipython3",
   "version": "3.10.16"
  }
 },
 "nbformat": 4,
 "nbformat_minor": 5
}
