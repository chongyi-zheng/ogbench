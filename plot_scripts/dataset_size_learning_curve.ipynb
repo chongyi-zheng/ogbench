{
 "cells": [
  {
   "cell_type": "code",
   "execution_count": 1,
   "id": "f74e1819",
   "metadata": {},
   "outputs": [],
   "source": [
    "import glob\n",
    "import os\n",
    "from pathlib import Path\n",
    "from collections import defaultdict\n",
    "\n",
    "import numpy as np\n",
    "import pandas as pd\n",
    "from scipy.ndimage import gaussian_filter1d\n",
    "\n",
    "import matplotlib.pyplot as plt\n",
    "import matplotlib as mpl\n",
    "import matplotlib\n",
    "from matplotlib.ticker import (MultipleLocator, AutoMinorLocator)"
   ]
  },
  {
   "cell_type": "code",
   "execution_count": 2,
   "id": "63138460",
   "metadata": {},
   "outputs": [],
   "source": [
    "def find_csv_files(log_dir, algos, filename) -> list[Path]:\n",
    "    # Matches …/<SEED>/debug/**/finetuning_eval.csv  (depth under debug doesn't matter)\n",
    "    \n",
    "    csv_files = defaultdict(lambda: defaultdict(dict))\n",
    "    for algo, env_name, dataset_size, exp_log_dir in algos:\n",
    "        pattern = os.path.join(log_dir, algo, exp_log_dir, \"*\", \"debug\", \"**\", filename)\n",
    "        files = [p for p in glob.glob(pattern, recursive=True)]\n",
    "        csv_files[env_name][algo][int(dataset_size)] = files \n",
    "    return csv_files\n",
    "\n",
    "\n",
    "log_dir = \"/n/fs/rl-chongyiz/exp_logs/ogbench_logs\"\n",
    "algos = [\n",
    "    # (\"sarsa_ifql_offline2offline\", \"quadruped_jump\", \"1_000\", \"20250407_sarsa_ifql_offline2offline_quadruped_jump_obs_norm=normal_alpha=3.0_ft_size=1000_ft_steps=500000_eval_freq=10000_num_fg=16_actor_freq=4_expectile=0.8_q_agg=min_critic_fm_loss=sarsa_squared_reward=state_bc_pretrain\"),\n",
    "    # (\"sarsa_ifql_offline2offline\", \"quadruped_jump\", \"5_000\", \"20250407_sarsa_ifql_offline2offline_quadruped_jump_obs_norm=normal_alpha=3.0_ft_size=5000_ft_steps=500000_eval_freq=10000_num_fg=16_actor_freq=4_expectile=0.8_q_agg=min_critic_fm_loss=sarsa_squared_reward=state_bc_pretrain\"),\n",
    "    # (\"sarsa_ifql_offline2offline\", \"quadruped_jump\", \"10_000\", \"20250407_sarsa_ifql_offline2offline_quadruped_jump_obs_norm=normal_alpha=3.0_ft_size=10000_ft_steps=500000_eval_freq=10000_num_fg=16_actor_freq=4_expectile=0.8_q_agg=min_critic_fm_loss=sarsa_squared_reward=state_bc_pretrain\"),\n",
    "    # (\"sarsa_ifql_offline2offline\", \"quadruped_jump\", \"50_000\", \"20250407_sarsa_ifql_offline2offline_quadruped_jump_obs_norm=normal_alpha=3.0_ft_size=50000_ft_steps=500000_eval_freq=10000_num_fg=16_actor_freq=4_expectile=0.8_q_agg=min_critic_fm_loss=sarsa_squared_reward=state_bc_pretrain\"),\n",
    "    (\"sarsa_ifql_vib_gpi_offline2offline\", \"quadruped_jump\", \"1_000\", \"20250510_sarsa_ifql_vib_gpi_offline2offline_quadruped_jump_obs_norm=normal_alpha=0.3_ft_size=1000_ft_steps=500000_eval_freq=10000_num_fg=16_actor_freq=4_expectile=0.9_actor_ln=False_kl_weight=0.005_latent_dim=128\"),\n",
    "    (\"sarsa_ifql_vib_gpi_offline2offline\", \"quadruped_jump\", \"5_000\", \"20250510_sarsa_ifql_vib_gpi_offline2offline_quadruped_jump_obs_norm=normal_alpha=0.3_ft_size=5000_ft_steps=500000_eval_freq=10000_num_fg=16_actor_freq=4_expectile=0.9_actor_ln=False_kl_weight=0.005_latent_dim=128\"),\n",
    "    (\"sarsa_ifql_vib_gpi_offline2offline\", \"quadruped_jump\", \"10_000\", \"20250510_sarsa_ifql_vib_gpi_offline2offline_quadruped_jump_obs_norm=normal_alpha=0.3_ft_size=10000_ft_steps=500000_eval_freq=10000_num_fg=16_actor_freq=4_expectile=0.9_actor_ln=False_kl_weight=0.005_latent_dim=128\"),\n",
    "    (\"sarsa_ifql_vib_gpi_offline2offline\", \"quadruped_jump\", \"50_000\", \"20250510_sarsa_ifql_vib_gpi_offline2offline_quadruped_jump_obs_norm=normal_alpha=0.3_ft_size=50000_ft_steps=500000_eval_freq=10000_num_fg=16_actor_freq=4_expectile=0.9_actor_ln=False_kl_weight=0.005_latent_dim=128\"),\n",
    "    (\"sarsa_ifql_vib_gpi_offline2offline\", \"quadruped_jump\", \"100_000\", \"20250510_sarsa_ifql_vib_gpi_offline2offline_quadruped_jump_obs_norm=normal_alpha=0.3_ft_size=100000_ft_steps=500000_eval_freq=10000_num_fg=16_actor_freq=4_expectile=0.9_actor_ln=False_kl_weight=0.005_latent_dim=128\"),\n",
    "    (\"rebrac_offline2offline\", \"quadruped_jump\", \"1_000\", \"20250407_rebrac_offline2offline_quadruped_jump_obs_norm_type=normal_alpha_actor=1.0_alpha_critic=1.0_ft_size=1000_ft_steps=500000_eval_freq=10000_actor_freq=4\"),\n",
    "    (\"rebrac_offline2offline\", \"quadruped_jump\", \"5_000\", \"20250407_rebrac_offline2offline_quadruped_jump_obs_norm_type=normal_alpha_actor=1.0_alpha_critic=1.0_ft_size=5000_ft_steps=500000_eval_freq=10000_actor_freq=4\"),\n",
    "    (\"rebrac_offline2offline\", \"quadruped_jump\", \"10_000\", \"20250407_rebrac_offline2offline_quadruped_jump_obs_norm_type=normal_alpha_actor=1.0_alpha_critic=1.0_ft_size=10000_ft_steps=500000_eval_freq=10000_actor_freq=4\"),\n",
    "    (\"rebrac_offline2offline\", \"quadruped_jump\", \"50_000\", \"20250407_rebrac_offline2offline_quadruped_jump_obs_norm_type=normal_alpha_actor=1.0_alpha_critic=1.0_ft_size=50000_ft_steps=500000_eval_freq=10000_actor_freq=4\"),\n",
    "\n",
    "    # (\"sarsa_ifql_offline2offline\", \"cube-single-play-singletask-task2-v0\", \"20250407_sarsa_ifql_offline2offline_cube-single-play-singletask-task2-v0_obs_norm=normal_alpha=30.0_ft_size=500000_ft_steps=250000_eval_freq=2000_num_fg=16_actor_freq=4_expectile=0.8_q_agg=mean_critic_fm_loss=sarsa_squared_reward=state_action_bc_pretrain\"),\n",
    "    # (\"iql_offline2offline\", \"cube-single-play-singletask-task2-v0\", \"20250407_iql_offline2offline_cube-single-play-singletask-task2-v0_obs_norm_type=normal_alpha=1.0_ft_size=500000_ft_steps=250000_eval_freq=2000_expectile=0.9_actor_freq=4\"),\n",
    "    # (\"rebrac_offline2offline\", \"cube-single-play-singletask-task2-v0\", \"20250407_rebrac_offline2offline_cube-single-play-singletask-task2-v0_obs_norm_type=normal_alpha_actor=1.0_alpha_critic=1.0_ft_size=500000_ft_steps=250000_eval_freq=2000_actor_freq=4\")\n",
    "]\n",
    "\n",
    "\n",
    "env_name_maps = {\n",
    "    'cheetah_run': 'cheetah run',\n",
    "    'quadruped_jump': 'quadruped jump',\n",
    "    'walker_walk': 'walker walk',\n",
    "    'cube-single-play-singletask-task2-v0': 'cube single front',\n",
    "}\n",
    "algo_name_maps = {\n",
    "    'sarsa_ifql_vib_gpi_offline2offline': 'InFOM (Ours)',\n",
    "    'sarsa_ifql_offline2offline': 'InFOM (Ours)',\n",
    "    'iql_offline2offline': 'IQL',\n",
    "    'rebrac_offline2offline': 'ReBRAC',\n",
    "}\n",
    "\n",
    "csv_files = find_csv_files(log_dir, algos, filename=\"finetuning_eval.csv\")"
   ]
  },
  {
   "cell_type": "code",
   "execution_count": 3,
   "id": "eb983e22",
   "metadata": {},
   "outputs": [],
   "source": [
    "def load_data(csv_path, stat_name, step_name) -> np.ndarray:\n",
    "    df = pd.read_csv(csv_path)\n",
    "    if stat_name not in df.columns:\n",
    "        raise KeyError(f\"{csv_path} doesn't contain {stat_name}\")\n",
    "    x = df[step_name].values\n",
    "    y = df[stat_name].values\n",
    "    return dict(x=x, y=y)\n",
    "\n",
    "\n",
    "algo_data = defaultdict(lambda: defaultdict(dict))\n",
    "for env_name, env_csv_files in csv_files.items():\n",
    "    for algo, dataset_csv_files in env_csv_files.items():\n",
    "        for dataset_size, csv_files in dataset_csv_files.items():\n",
    "            seed_data = []\n",
    "            for csv_file in csv_files:\n",
    "                if \"singletask\" in env_name:\n",
    "                    data = load_data(csv_file, \"evaluation/episode.success\", \"step\")\n",
    "                else:\n",
    "                    data = load_data(csv_file, \"evaluation/episode.return\", \"step\")\n",
    "                if len(seed_data) == 0:\n",
    "                    seed_data.append(data[\"x\"])\n",
    "                else:\n",
    "                    assert np.all(data[\"x\"] == seed_data[0])\n",
    "                seed_data.append(data[\"y\"])\n",
    "\n",
    "            seed_data = np.asarray(seed_data)\n",
    "            # steps = seed_data[0]\n",
    "            # data = seed_data[1:]\n",
    "        \n",
    "            algo_data[env_name_maps[env_name]][algo_name_maps[algo]][dataset_size] = seed_data\n",
    "            if len(seed_data) == 1:\n",
    "                print(\"Warning: only one random seed!\")"
   ]
  },
  {
   "cell_type": "code",
   "execution_count": 4,
   "id": "b7d1adcc",
   "metadata": {},
   "outputs": [
    {
     "name": "stdout",
     "output_type": "stream",
     "text": [
      "(5, 51)\n",
      "(2, 51)\n"
     ]
    }
   ],
   "source": [
    "print(algo_data['quadruped jump']['InFOM (Ours)'][1000].shape)\n",
    "print(algo_data['quadruped jump']['ReBRAC'][1000].shape)\n",
    "\n",
    "# print(algo_data['cube single front']['InFOM (Ours)'].shape)\n",
    "# print(algo_data['cube single front']['IQL'].shape)\n",
    "# print(algo_data['cube single front']['ReBRAC'].shape)"
   ]
  },
  {
   "cell_type": "code",
   "execution_count": 5,
   "id": "f40dd112",
   "metadata": {},
   "outputs": [
    {
     "name": "stdout",
     "output_type": "stream",
     "text": [
      "env = quadruped jump, InFOM (Ours), 1000: mean = 56.1134, std = 12.1642\n",
      "env = quadruped jump, InFOM (Ours), 5000: mean = 122.5531, std = 24.8884\n",
      "env = quadruped jump, InFOM (Ours), 10000: mean = 168.4587, std = 98.8563\n",
      "env = quadruped jump, InFOM (Ours), 50000: mean = 407.4942, std = 164.2651\n",
      "env = quadruped jump, InFOM (Ours), 100000: mean = 373.5480, std = 246.9128\n",
      "env = quadruped jump, ReBRAC, 1000: mean = 95.7232, std = nan\n",
      "env = quadruped jump, ReBRAC, 5000: mean = 409.2205, std = nan\n",
      "env = quadruped jump, ReBRAC, 10000: mean = 484.0349, std = nan\n",
      "env = quadruped jump, ReBRAC, 50000: mean = 588.0670, std = nan\n"
     ]
    },
    {
     "name": "stderr",
     "output_type": "stream",
     "text": [
      "/u/cz8792/.conda/envs/ogbench/lib/python3.10/site-packages/numpy/core/_methods.py:206: RuntimeWarning: Degrees of freedom <= 0 for slice\n",
      "  ret = _var(a, axis=axis, dtype=dtype, out=out, ddof=ddof,\n",
      "/u/cz8792/.conda/envs/ogbench/lib/python3.10/site-packages/numpy/core/_methods.py:198: RuntimeWarning: invalid value encountered in scalar divide\n",
      "  ret = ret.dtype.type(ret / rcount)\n"
     ]
    }
   ],
   "source": [
    "new_algo_data = defaultdict(dict)\n",
    "for env_name, env_data in algo_data.items():\n",
    "    for algo, dataset_data in env_data.items():\n",
    "        dataset_sizes = []\n",
    "        data_means = []\n",
    "        data_stds = []\n",
    "        for dataset_size, data in dataset_data.items():\n",
    "            # x = data[0] - 1e6\n",
    "            y = data[1:, -3:].mean(axis=-1)\n",
    "            y_mean = np.mean(y, axis=0)\n",
    "            y_std = np.std(y, axis=0, ddof=1)\n",
    "            \n",
    "            dataset_sizes.append(dataset_size)\n",
    "            data_means.append(y_mean)\n",
    "            data_stds.append(y_std)\n",
    "            print(f\"env = {env_name}, {algo}, {dataset_size}: mean = {y_mean:.4f}, std = {y_std:.4f}\")\n",
    "        new_data = np.array([dataset_sizes, data_means, data_stds])\n",
    "        new_algo_data[env_name][algo] = new_data"
   ]
  },
  {
   "cell_type": "code",
   "execution_count": 6,
   "id": "786de444",
   "metadata": {},
   "outputs": [
    {
     "name": "stderr",
     "output_type": "stream",
     "text": [
      "/tmp/ipykernel_286101/2391921637.py:33: UserWarning: This figure includes Axes that are not compatible with tight_layout, so results might be incorrect.\n",
      "  fig.tight_layout()\n"
     ]
    },
    {
     "data": {
      "image/png": "[encoded data removed]",
      "text/plain": [
       "<Figure size 400x320 with 1 Axes>"
      ]
     },
     "metadata": {},
     "output_type": "display_data"
    }
   ],
   "source": [
    "fig, axes = plt.subplots(1, 1, figsize=(4., 3.2), gridspec_kw=dict(wspace=0.22, hspace=0.5))\n",
    "\n",
    "axes = [axes]\n",
    "\n",
    "for (env_name, env_data), ax in zip(new_algo_data.items(), axes):\n",
    "    for algo, data in env_data.items():\n",
    "        x = data[0]\n",
    "        y_mean = data[1]\n",
    "        y_std = data[2]\n",
    "        \n",
    "        l, = ax.plot(x, y_mean, marker='o', label=algo, zorder=3)\n",
    "        ax.fill_between(x, y_mean - y_std, y_mean + y_std, alpha=0.3, lw=0, color=l.get_color(), zorder=3)\n",
    "\n",
    "    ax.set_ylabel('return', fontsize=14)\n",
    "    # ax.set_xlim([-4e2, 2e4 + 4e2])\n",
    "    ax.set_xscale('log')\n",
    "    ax.set_xticks([1000, 5000, 10000, 50000])\n",
    "    ax.set_ylim([-25, 825])\n",
    "    ax.set_yticks([0, 400, 800])\n",
    "    ax.yaxis.set_minor_locator(MultipleLocator(100))\n",
    "    \n",
    "    # ax.legend(bbox_to_anchor=(0.0, -0.2),\n",
    "    #     loc=\"upper left\", labelspacing=1, columnspacing=1.8075, fancybox=False,\n",
    "    #     shadow=False, fontsize=12.5, borderpad=0.5, handlelength=1.7, ncol=3)\n",
    "    ax.legend()\n",
    "    \n",
    "    ax.set_title(env_name, fontsize=14)\n",
    "    ax.set_xlabel('fine-tuning steps', fontsize=12)\n",
    "    # ax.ticklabel_format(axis='x', style='sci', scilimits=(0, 0))  \n",
    "    \n",
    "    ax.grid(zorder=3)     \n",
    "\n",
    "fig.tight_layout()\n",
    "filepath = \"/u/cz8792/research/ogbench/plot_scripts/figures/dataset_size_ablation.pdf\"\n",
    "fig.savefig(filepath, dpi=150, bbox_inches=\"tight\")\n",
    "plt.show()\n"
   ]
  },
  {
   "cell_type": "code",
   "execution_count": 7,
   "id": "f06132ac",
   "metadata": {},
   "outputs": [
    {
     "ename": "KeyError",
     "evalue": "0",
     "output_type": "error",
     "traceback": [
      "\u001b[0;31m---------------------------------------------------------------------------\u001b[0m",
      "\u001b[0;31mKeyError\u001b[0m                                  Traceback (most recent call last)",
      "Cell \u001b[0;32mIn[7], line 6\u001b[0m\n\u001b[1;32m      4\u001b[0m \u001b[38;5;28;01mfor\u001b[39;00m (env_name, env_data), ax \u001b[38;5;129;01min\u001b[39;00m \u001b[38;5;28mzip\u001b[39m(algo_data\u001b[38;5;241m.\u001b[39mitems(), axes):\n\u001b[1;32m      5\u001b[0m     \u001b[38;5;28;01mfor\u001b[39;00m algo, data \u001b[38;5;129;01min\u001b[39;00m env_data\u001b[38;5;241m.\u001b[39mitems():\n\u001b[0;32m----> 6\u001b[0m         x \u001b[38;5;241m=\u001b[39m \u001b[43mdata\u001b[49m\u001b[43m[\u001b[49m\u001b[38;5;241;43m0\u001b[39;49m\u001b[43m]\u001b[49m \u001b[38;5;241m-\u001b[39m \u001b[38;5;241m1e6\u001b[39m\n\u001b[1;32m      7\u001b[0m         y \u001b[38;5;241m=\u001b[39m data[\u001b[38;5;241m1\u001b[39m:]\n\u001b[1;32m      8\u001b[0m         y \u001b[38;5;241m=\u001b[39m gaussian_filter1d(y, \u001b[38;5;241m0.25\u001b[39m)\n",
      "\u001b[0;31mKeyError\u001b[0m: 0"
     ]
    },
    {
     "data": {
      "image/png": "[encoded data removed]",
      "text/plain": [
       "<Figure size 800x320 with 2 Axes>"
      ]
     },
     "metadata": {},
     "output_type": "display_data"
    }
   ],
   "source": [
    "# fig, axes = plt.subplots(1, 3, figsize=(12, 3.2), gridspec_kw=dict(wspace=0.16, hspace=0.5))\n",
    "fig, axes = plt.subplots(1, 2, figsize=(8., 3.2), gridspec_kw=dict(wspace=0.22, hspace=0.5))\n",
    "\n",
    "for (env_name, env_data), ax in zip(algo_data.items(), axes):\n",
    "    for algo, data in env_data.items():\n",
    "        x = data[0] - 1e6\n",
    "        y = data[1:]\n",
    "        y = gaussian_filter1d(y, 0.25)\n",
    "        y_mean = np.mean(y, axis=0)\n",
    "        y_std = np.std(y, axis=0, ddof=1)\n",
    "        \n",
    "        l, = ax.plot(x, y_mean, label=algo, zorder=3)\n",
    "        ax.fill_between(x, y_mean - y_std, y_mean + y_std, alpha=0.3, lw=0, color=l.get_color(), zorder=3)\n",
    "\n",
    "    if ax == axes[0]:\n",
    "        ax.set_ylabel('return', fontsize=14)\n",
    "        ax.set_xlim([-4e2, 2e4 + 4e2])\n",
    "        ax.set_ylim([-25, 825])\n",
    "        ax.set_yticks([0, 400, 800])\n",
    "        ax.yaxis.set_minor_locator(MultipleLocator(100))\n",
    "        \n",
    "        ax.legend(bbox_to_anchor=(0.3, -0.2),\n",
    "            loc=\"upper left\", labelspacing=1, columnspacing=1.8075, fancybox=False,\n",
    "            shadow=False, fontsize=12.5, borderpad=0.5, handlelength=1.7, ncol=3)\n",
    "    elif ax == axes[1]:\n",
    "        ax.set_ylabel('success rate', fontsize=14)\n",
    "        ax.set_xlim([-1.25e4, 0.25e6 + 1.25e4])\n",
    "        ax.set_ylim([-0.03, 1.0 + 0.03])\n",
    "        ax.set_yticks([0.0, 0.5, 1.0])\n",
    "        ax.yaxis.set_minor_locator(MultipleLocator(0.1))\n",
    "    \n",
    "    ax.set_title(env_name, fontsize=14)\n",
    "    ax.set_xlabel('fine-tuning steps', fontsize=12)\n",
    "    ax.ticklabel_format(axis='x', style='sci', scilimits=(0, 0))  \n",
    "    \n",
    "    ax.grid(zorder=3)     \n",
    "\n",
    "fig.tight_layout()\n",
    "filepath = \"/u/cz8792/research/ogbench/plot_scripts/figures/dataset_size_ablation.pdf\"\n",
    "fig.savefig(filepath, dpi=150, bbox_inches=\"tight\")\n",
    "plt.show()\n"
   ]
  },
  {
   "cell_type": "code",
   "execution_count": null,
   "id": "f3d6d6d5",
   "metadata": {},
   "outputs": [],
   "source": []
  }
 ],
 "metadata": {
  "kernelspec": {
   "display_name": "ogbench",
   "language": "python",
   "name": "python3"
  },
  "language_info": {
   "codemirror_mode": {
    "name": "ipython",
    "version": 3
   },
   "file_extension": ".py",
   "mimetype": "text/x-python",
   "name": "python",
   "nbconvert_exporter": "python",
   "pygments_lexer": "ipython3",
   "version": "3.10.16"
  }
 },
 "nbformat": 4,
 "nbformat_minor": 5
}
